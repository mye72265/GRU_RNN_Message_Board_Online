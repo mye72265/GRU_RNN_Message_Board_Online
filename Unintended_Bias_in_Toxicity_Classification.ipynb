{
  "cells": [
    {
      "cell_type": "markdown",
      "metadata": {
        "id": "WHNoOCF5ylTw"
      },
      "source": [
        "Gated Recurrent Units (GRUs) excel at review classification tasks like identifying positive or negative sentiment. They effectively exploit the sequential nature of text, remembering previous words' sentiment to understand the overall context. Like a master interpreter, GRUs analyze each word, filtering irrelevant information and retaining key emotional cues. They learn from labeled reviews, associating specific words and phrases with positive or negative connotations. Armed with this understanding, GRUs process new reviews, their internal memory capturing the evolving sentiment and ultimately predicting the overall positive or negative classification with impressive accuracy. This makes them valuable tools for analyzing customer feedback, gauging public opinion, and even building chatbots that understand emotional nuances."
      ]
    },
    {
      "cell_type": "code",
      "execution_count": null,
      "metadata": {
        "id": "KIpboA3aO0HM"
      },
      "outputs": [],
      "source": [
        "import gc\n",
        "import re\n",
        "import operator\n",
        "\n",
        "import numpy as np\n",
        "import pandas as pd\n",
        "import seaborn as sns\n",
        "\n",
        "from gensim.models import KeyedVectors\n",
        "\n",
        "from sklearn import model_selection\n",
        "\n",
        "from keras.preprocessing.text import Tokenizer\n",
        "from keras.preprocessing.sequence import pad_sequences\n",
        "from keras.layers import Embedding, Input, Dense, concatenate, Bidirectional, SpatialDropout1D, Conv1D, GlobalAveragePooling1D, GlobalMaxPooling1D\n",
        "from tensorflow.keras.optimizers import RMSprop\n",
        "from tensorflow.keras.optimizers import Adam\n",
        "from keras.models import Model\n",
        "from keras.callbacks import EarlyStopping"
      ]
    },
    {
      "cell_type": "code",
      "execution_count": null,
      "metadata": {
        "colab": {
          "base_uri": "https://localhost:8080/"
        },
        "id": "sz-OKQ7fSKOe",
        "outputId": "23dc40f2-660b-4cf7-b44f-c95898d76617"
      },
      "outputs": [
        {
          "output_type": "stream",
          "name": "stdout",
          "text": [
            "Mounted at /content/drive\n"
          ]
        }
      ],
      "source": [
        "from google.colab import drive\n",
        "drive.mount('/content/drive')"
      ]
    },
    {
      "cell_type": "code",
      "execution_count": null,
      "metadata": {
        "colab": {
          "base_uri": "https://localhost:8080/"
        },
        "id": "ZfMIPJd8SKXN",
        "outputId": "83b6e60e-aef9-4608-9a9d-1e3076a5fbed"
      },
      "outputs": [
        {
          "output_type": "stream",
          "name": "stdout",
          "text": [
            " 48k_augment.csv  'Copy of 48k_augment.csv'   GoogleNews.bin   test.csv   train.csv\n"
          ]
        }
      ],
      "source": [
        "!ls /content/drive/MyDrive/RNN1"
      ]
    },
    {
      "cell_type": "code",
      "execution_count": null,
      "metadata": {
        "colab": {
          "base_uri": "https://localhost:8080/"
        },
        "id": "amhUybzbPPNg",
        "outputId": "f24f9198-4724-482a-a8e2-88c8dc5d8641"
      },
      "outputs": [
        {
          "output_type": "execute_result",
          "data": {
            "text/plain": [
              "(1804874, 45)"
            ]
          },
          "metadata": {},
          "execution_count": 4
        }
      ],
      "source": [
        "df_train = pd.read_csv(\"/content/drive/MyDrive/RNN1/train.csv\")\n",
        "df_test = pd.read_csv(\"/content/drive/MyDrive/RNN1/test.csv\")\n",
        "\n",
        "df_train.shape\n"
      ]
    },
    {
      "cell_type": "code",
      "execution_count": null,
      "metadata": {
        "colab": {
          "base_uri": "https://localhost:8080/",
          "height": 206
        },
        "id": "z81NMcTyPPXC",
        "outputId": "343968ea-055e-4b16-f1f3-7d4f482bb271"
      },
      "outputs": [
        {
          "output_type": "execute_result",
          "data": {
            "text/plain": [
              "        id                                       comment_text\n",
              "0  7097320  [ Integrity means that you pay your debts.]\\n\\...\n",
              "1  7097321  This is malfeasance by the Administrator and t...\n",
              "2  7097322  @Rmiller101 - Spoken like a true elitist. But ...\n",
              "3  7097323  Paul: Thank you for your kind words.  I do, in...\n",
              "4  7097324  Sorry you missed high school. Eisenhower sent ..."
            ],
            "text/html": [
              "\n",
              "  <div id=\"df-9b4a1f0b-c13b-4463-bcee-c85775a0b085\" class=\"colab-df-container\">\n",
              "    <div>\n",
              "<style scoped>\n",
              "    .dataframe tbody tr th:only-of-type {\n",
              "        vertical-align: middle;\n",
              "    }\n",
              "\n",
              "    .dataframe tbody tr th {\n",
              "        vertical-align: top;\n",
              "    }\n",
              "\n",
              "    .dataframe thead th {\n",
              "        text-align: right;\n",
              "    }\n",
              "</style>\n",
              "<table border=\"1\" class=\"dataframe\">\n",
              "  <thead>\n",
              "    <tr style=\"text-align: right;\">\n",
              "      <th></th>\n",
              "      <th>id</th>\n",
              "      <th>comment_text</th>\n",
              "    </tr>\n",
              "  </thead>\n",
              "  <tbody>\n",
              "    <tr>\n",
              "      <th>0</th>\n",
              "      <td>7097320</td>\n",
              "      <td>[ Integrity means that you pay your debts.]\\n\\...</td>\n",
              "    </tr>\n",
              "    <tr>\n",
              "      <th>1</th>\n",
              "      <td>7097321</td>\n",
              "      <td>This is malfeasance by the Administrator and t...</td>\n",
              "    </tr>\n",
              "    <tr>\n",
              "      <th>2</th>\n",
              "      <td>7097322</td>\n",
              "      <td>@Rmiller101 - Spoken like a true elitist. But ...</td>\n",
              "    </tr>\n",
              "    <tr>\n",
              "      <th>3</th>\n",
              "      <td>7097323</td>\n",
              "      <td>Paul: Thank you for your kind words.  I do, in...</td>\n",
              "    </tr>\n",
              "    <tr>\n",
              "      <th>4</th>\n",
              "      <td>7097324</td>\n",
              "      <td>Sorry you missed high school. Eisenhower sent ...</td>\n",
              "    </tr>\n",
              "  </tbody>\n",
              "</table>\n",
              "</div>\n",
              "    <div class=\"colab-df-buttons\">\n",
              "\n",
              "  <div class=\"colab-df-container\">\n",
              "    <button class=\"colab-df-convert\" onclick=\"convertToInteractive('df-9b4a1f0b-c13b-4463-bcee-c85775a0b085')\"\n",
              "            title=\"Convert this dataframe to an interactive table.\"\n",
              "            style=\"display:none;\">\n",
              "\n",
              "  <svg xmlns=\"http://www.w3.org/2000/svg\" height=\"24px\" viewBox=\"0 -960 960 960\">\n",
              "    <path d=\"M120-120v-720h720v720H120Zm60-500h600v-160H180v160Zm220 220h160v-160H400v160Zm0 220h160v-160H400v160ZM180-400h160v-160H180v160Zm440 0h160v-160H620v160ZM180-180h160v-160H180v160Zm440 0h160v-160H620v160Z\"/>\n",
              "  </svg>\n",
              "    </button>\n",
              "\n",
              "  <style>\n",
              "    .colab-df-container {\n",
              "      display:flex;\n",
              "      gap: 12px;\n",
              "    }\n",
              "\n",
              "    .colab-df-convert {\n",
              "      background-color: #E8F0FE;\n",
              "      border: none;\n",
              "      border-radius: 50%;\n",
              "      cursor: pointer;\n",
              "      display: none;\n",
              "      fill: #1967D2;\n",
              "      height: 32px;\n",
              "      padding: 0 0 0 0;\n",
              "      width: 32px;\n",
              "    }\n",
              "\n",
              "    .colab-df-convert:hover {\n",
              "      background-color: #E2EBFA;\n",
              "      box-shadow: 0px 1px 2px rgba(60, 64, 67, 0.3), 0px 1px 3px 1px rgba(60, 64, 67, 0.15);\n",
              "      fill: #174EA6;\n",
              "    }\n",
              "\n",
              "    .colab-df-buttons div {\n",
              "      margin-bottom: 4px;\n",
              "    }\n",
              "\n",
              "    [theme=dark] .colab-df-convert {\n",
              "      background-color: #3B4455;\n",
              "      fill: #D2E3FC;\n",
              "    }\n",
              "\n",
              "    [theme=dark] .colab-df-convert:hover {\n",
              "      background-color: #434B5C;\n",
              "      box-shadow: 0px 1px 3px 1px rgba(0, 0, 0, 0.15);\n",
              "      filter: drop-shadow(0px 1px 2px rgba(0, 0, 0, 0.3));\n",
              "      fill: #FFFFFF;\n",
              "    }\n",
              "  </style>\n",
              "\n",
              "    <script>\n",
              "      const buttonEl =\n",
              "        document.querySelector('#df-9b4a1f0b-c13b-4463-bcee-c85775a0b085 button.colab-df-convert');\n",
              "      buttonEl.style.display =\n",
              "        google.colab.kernel.accessAllowed ? 'block' : 'none';\n",
              "\n",
              "      async function convertToInteractive(key) {\n",
              "        const element = document.querySelector('#df-9b4a1f0b-c13b-4463-bcee-c85775a0b085');\n",
              "        const dataTable =\n",
              "          await google.colab.kernel.invokeFunction('convertToInteractive',\n",
              "                                                    [key], {});\n",
              "        if (!dataTable) return;\n",
              "\n",
              "        const docLinkHtml = 'Like what you see? Visit the ' +\n",
              "          '<a target=\"_blank\" href=https://colab.research.google.com/notebooks/data_table.ipynb>data table notebook</a>'\n",
              "          + ' to learn more about interactive tables.';\n",
              "        element.innerHTML = '';\n",
              "        dataTable['output_type'] = 'display_data';\n",
              "        await google.colab.output.renderOutput(dataTable, element);\n",
              "        const docLink = document.createElement('div');\n",
              "        docLink.innerHTML = docLinkHtml;\n",
              "        element.appendChild(docLink);\n",
              "      }\n",
              "    </script>\n",
              "  </div>\n",
              "\n",
              "\n",
              "<div id=\"df-6096e42b-85b8-4a4e-ad8d-2ce534853ab7\">\n",
              "  <button class=\"colab-df-quickchart\" onclick=\"quickchart('df-6096e42b-85b8-4a4e-ad8d-2ce534853ab7')\"\n",
              "            title=\"Suggest charts\"\n",
              "            style=\"display:none;\">\n",
              "\n",
              "<svg xmlns=\"http://www.w3.org/2000/svg\" height=\"24px\"viewBox=\"0 0 24 24\"\n",
              "     width=\"24px\">\n",
              "    <g>\n",
              "        <path d=\"M19 3H5c-1.1 0-2 .9-2 2v14c0 1.1.9 2 2 2h14c1.1 0 2-.9 2-2V5c0-1.1-.9-2-2-2zM9 17H7v-7h2v7zm4 0h-2V7h2v10zm4 0h-2v-4h2v4z\"/>\n",
              "    </g>\n",
              "</svg>\n",
              "  </button>\n",
              "\n",
              "<style>\n",
              "  .colab-df-quickchart {\n",
              "      --bg-color: #E8F0FE;\n",
              "      --fill-color: #1967D2;\n",
              "      --hover-bg-color: #E2EBFA;\n",
              "      --hover-fill-color: #174EA6;\n",
              "      --disabled-fill-color: #AAA;\n",
              "      --disabled-bg-color: #DDD;\n",
              "  }\n",
              "\n",
              "  [theme=dark] .colab-df-quickchart {\n",
              "      --bg-color: #3B4455;\n",
              "      --fill-color: #D2E3FC;\n",
              "      --hover-bg-color: #434B5C;\n",
              "      --hover-fill-color: #FFFFFF;\n",
              "      --disabled-bg-color: #3B4455;\n",
              "      --disabled-fill-color: #666;\n",
              "  }\n",
              "\n",
              "  .colab-df-quickchart {\n",
              "    background-color: var(--bg-color);\n",
              "    border: none;\n",
              "    border-radius: 50%;\n",
              "    cursor: pointer;\n",
              "    display: none;\n",
              "    fill: var(--fill-color);\n",
              "    height: 32px;\n",
              "    padding: 0;\n",
              "    width: 32px;\n",
              "  }\n",
              "\n",
              "  .colab-df-quickchart:hover {\n",
              "    background-color: var(--hover-bg-color);\n",
              "    box-shadow: 0 1px 2px rgba(60, 64, 67, 0.3), 0 1px 3px 1px rgba(60, 64, 67, 0.15);\n",
              "    fill: var(--button-hover-fill-color);\n",
              "  }\n",
              "\n",
              "  .colab-df-quickchart-complete:disabled,\n",
              "  .colab-df-quickchart-complete:disabled:hover {\n",
              "    background-color: var(--disabled-bg-color);\n",
              "    fill: var(--disabled-fill-color);\n",
              "    box-shadow: none;\n",
              "  }\n",
              "\n",
              "  .colab-df-spinner {\n",
              "    border: 2px solid var(--fill-color);\n",
              "    border-color: transparent;\n",
              "    border-bottom-color: var(--fill-color);\n",
              "    animation:\n",
              "      spin 1s steps(1) infinite;\n",
              "  }\n",
              "\n",
              "  @keyframes spin {\n",
              "    0% {\n",
              "      border-color: transparent;\n",
              "      border-bottom-color: var(--fill-color);\n",
              "      border-left-color: var(--fill-color);\n",
              "    }\n",
              "    20% {\n",
              "      border-color: transparent;\n",
              "      border-left-color: var(--fill-color);\n",
              "      border-top-color: var(--fill-color);\n",
              "    }\n",
              "    30% {\n",
              "      border-color: transparent;\n",
              "      border-left-color: var(--fill-color);\n",
              "      border-top-color: var(--fill-color);\n",
              "      border-right-color: var(--fill-color);\n",
              "    }\n",
              "    40% {\n",
              "      border-color: transparent;\n",
              "      border-right-color: var(--fill-color);\n",
              "      border-top-color: var(--fill-color);\n",
              "    }\n",
              "    60% {\n",
              "      border-color: transparent;\n",
              "      border-right-color: var(--fill-color);\n",
              "    }\n",
              "    80% {\n",
              "      border-color: transparent;\n",
              "      border-right-color: var(--fill-color);\n",
              "      border-bottom-color: var(--fill-color);\n",
              "    }\n",
              "    90% {\n",
              "      border-color: transparent;\n",
              "      border-bottom-color: var(--fill-color);\n",
              "    }\n",
              "  }\n",
              "</style>\n",
              "\n",
              "  <script>\n",
              "    async function quickchart(key) {\n",
              "      const quickchartButtonEl =\n",
              "        document.querySelector('#' + key + ' button');\n",
              "      quickchartButtonEl.disabled = true;  // To prevent multiple clicks.\n",
              "      quickchartButtonEl.classList.add('colab-df-spinner');\n",
              "      try {\n",
              "        const charts = await google.colab.kernel.invokeFunction(\n",
              "            'suggestCharts', [key], {});\n",
              "      } catch (error) {\n",
              "        console.error('Error during call to suggestCharts:', error);\n",
              "      }\n",
              "      quickchartButtonEl.classList.remove('colab-df-spinner');\n",
              "      quickchartButtonEl.classList.add('colab-df-quickchart-complete');\n",
              "    }\n",
              "    (() => {\n",
              "      let quickchartButtonEl =\n",
              "        document.querySelector('#df-6096e42b-85b8-4a4e-ad8d-2ce534853ab7 button');\n",
              "      quickchartButtonEl.style.display =\n",
              "        google.colab.kernel.accessAllowed ? 'block' : 'none';\n",
              "    })();\n",
              "  </script>\n",
              "</div>\n",
              "\n",
              "    </div>\n",
              "  </div>\n"
            ],
            "application/vnd.google.colaboratory.intrinsic+json": {
              "type": "dataframe",
              "variable_name": "df_test",
              "summary": "{\n  \"name\": \"df_test\",\n  \"rows\": 97320,\n  \"fields\": [\n    {\n      \"column\": \"id\",\n      \"properties\": {\n        \"dtype\": \"number\",\n        \"std\": 28094,\n        \"min\": 7097320,\n        \"max\": 7194639,\n        \"num_unique_values\": 97320,\n        \"samples\": [\n          7147522,\n          7168379,\n          7130951\n        ],\n        \"semantic_type\": \"\",\n        \"description\": \"\"\n      }\n    },\n    {\n      \"column\": \"comment_text\",\n      \"properties\": {\n        \"dtype\": \"string\",\n        \"num_unique_values\": 96862,\n        \"samples\": [\n          \"Correct, they have all the right to protest, but the fans have the right to not change the channel on their TV, which is exactly what's happening.\",\n          \"There is absolutely no excuse for an elected official to behave in this disgusting manner. Congratulations Mr. Eastman your mysognist and flat out racist comments made the national news. You are a minority of one even among your own party. Anything short of a Legislative censor is unacceptable.\",\n          \"Massacure.  You can find it on Google or Wikipedia. New York Times also had a n article.\"\n        ],\n        \"semantic_type\": \"\",\n        \"description\": \"\"\n      }\n    }\n  ]\n}"
            }
          },
          "metadata": {},
          "execution_count": 5
        }
      ],
      "source": [
        "df_test.head()"
      ]
    },
    {
      "cell_type": "code",
      "execution_count": null,
      "metadata": {
        "id": "o7Et24GlPPgS"
      },
      "outputs": [],
      "source": [
        "df = pd.concat([df_train[['id','comment_text']], df_test])\n",
        "del(df_train, df_test)"
      ]
    },
    {
      "cell_type": "markdown",
      "metadata": {
        "id": "0597BCYodLu7"
      },
      "source": [
        "## Embeddings:\n",
        "### To start we'll just take the Google News word vectors file to use as embeddings. Later, we'll hopefully combine multiple embeddings.\n"
      ]
    },
    {
      "cell_type": "code",
      "execution_count": null,
      "metadata": {
        "colab": {
          "base_uri": "https://localhost:8080/"
        },
        "id": "3FyB-9joejid",
        "outputId": "b2790c8d-238b-478b-b25c-4132bf3074ad"
      },
      "outputs": [
        {
          "output_type": "stream",
          "name": "stdout",
          "text": [
            "Loading Google News word vectors from /content/drive/MyDrive/RNN1/GoogleNews.bin...\n",
            "Word vector for \"king\":\n",
            "[ 1.25976562e-01  2.97851562e-02  8.60595703e-03  1.39648438e-01\n",
            " -2.56347656e-02 -3.61328125e-02  1.11816406e-01 -1.98242188e-01\n",
            "  5.12695312e-02  3.63281250e-01 -2.42187500e-01 -3.02734375e-01\n",
            " -1.77734375e-01 -2.49023438e-02 -1.67968750e-01 -1.69921875e-01\n",
            "  3.46679688e-02  5.21850586e-03  4.63867188e-02  1.28906250e-01\n",
            "  1.36718750e-01  1.12792969e-01  5.95703125e-02  1.36718750e-01\n",
            "  1.01074219e-01 -1.76757812e-01 -2.51953125e-01  5.98144531e-02\n",
            "  3.41796875e-01 -3.11279297e-02  1.04492188e-01  6.17675781e-02\n",
            "  1.24511719e-01  4.00390625e-01 -3.22265625e-01  8.39843750e-02\n",
            "  3.90625000e-02  5.85937500e-03  7.03125000e-02  1.72851562e-01\n",
            "  1.38671875e-01 -2.31445312e-01  2.83203125e-01  1.42578125e-01\n",
            "  3.41796875e-01 -2.39257812e-02 -1.09863281e-01  3.32031250e-02\n",
            " -5.46875000e-02  1.53198242e-02 -1.62109375e-01  1.58203125e-01\n",
            " -2.59765625e-01  2.01416016e-02 -1.63085938e-01  1.35803223e-03\n",
            " -1.44531250e-01 -5.68847656e-02  4.29687500e-02 -2.46582031e-02\n",
            "  1.85546875e-01  4.47265625e-01  9.58251953e-03  1.31835938e-01\n",
            "  9.86328125e-02 -1.85546875e-01 -1.00097656e-01 -1.33789062e-01\n",
            " -1.25000000e-01  2.83203125e-01  1.23046875e-01  5.32226562e-02\n",
            " -1.77734375e-01  8.59375000e-02 -2.18505859e-02  2.05078125e-02\n",
            " -1.39648438e-01  2.51464844e-02  1.38671875e-01 -1.05468750e-01\n",
            "  1.38671875e-01  8.88671875e-02 -7.51953125e-02 -2.13623047e-02\n",
            "  1.72851562e-01  4.63867188e-02 -2.65625000e-01  8.91113281e-03\n",
            "  1.49414062e-01  3.78417969e-02  2.38281250e-01 -1.24511719e-01\n",
            " -2.17773438e-01 -1.81640625e-01  2.97851562e-02  5.71289062e-02\n",
            " -2.89306641e-02  1.24511719e-02  9.66796875e-02 -2.31445312e-01\n",
            "  5.81054688e-02  6.68945312e-02  7.08007812e-02 -3.08593750e-01\n",
            " -2.14843750e-01  1.45507812e-01 -4.27734375e-01 -9.39941406e-03\n",
            "  1.54296875e-01 -7.66601562e-02  2.89062500e-01  2.77343750e-01\n",
            " -4.86373901e-04 -1.36718750e-01  3.24218750e-01 -2.46093750e-01\n",
            " -3.03649902e-03 -2.11914062e-01  1.25000000e-01  2.69531250e-01\n",
            "  2.04101562e-01  8.25195312e-02 -2.01171875e-01 -1.60156250e-01\n",
            " -3.78417969e-02 -1.20117188e-01  1.15234375e-01 -4.10156250e-02\n",
            " -3.95507812e-02 -8.98437500e-02  6.34765625e-03  2.03125000e-01\n",
            "  1.86523438e-01  2.73437500e-01  6.29882812e-02  1.41601562e-01\n",
            " -9.81445312e-02  1.38671875e-01  1.82617188e-01  1.73828125e-01\n",
            "  1.73828125e-01 -2.37304688e-01  1.78710938e-01  6.34765625e-02\n",
            "  2.36328125e-01 -2.08984375e-01  8.74023438e-02 -1.66015625e-01\n",
            " -7.91015625e-02  2.43164062e-01 -8.88671875e-02  1.26953125e-01\n",
            " -2.16796875e-01 -1.73828125e-01 -3.59375000e-01 -8.25195312e-02\n",
            " -6.49414062e-02  5.07812500e-02  1.35742188e-01 -7.47070312e-02\n",
            " -1.64062500e-01  1.15356445e-02  4.45312500e-01 -2.15820312e-01\n",
            " -1.11328125e-01 -1.92382812e-01  1.70898438e-01 -1.25000000e-01\n",
            "  2.65502930e-03  1.92382812e-01 -1.74804688e-01  1.39648438e-01\n",
            "  2.92968750e-01  1.13281250e-01  5.95703125e-02 -6.39648438e-02\n",
            "  9.96093750e-02 -2.72216797e-02  1.96533203e-02  4.27246094e-02\n",
            " -2.46093750e-01  6.39648438e-02 -2.25585938e-01 -1.68945312e-01\n",
            "  2.89916992e-03  8.20312500e-02  3.41796875e-01  4.32128906e-02\n",
            "  1.32812500e-01  1.42578125e-01  7.61718750e-02  5.98144531e-02\n",
            " -1.19140625e-01  2.74658203e-03 -6.29882812e-02 -2.72216797e-02\n",
            " -4.82177734e-03 -8.20312500e-02 -2.49023438e-02 -4.00390625e-01\n",
            " -1.06933594e-01  4.24804688e-02  7.76367188e-02 -1.16699219e-01\n",
            "  7.37304688e-02 -9.22851562e-02  1.07910156e-01  1.58203125e-01\n",
            "  4.24804688e-02  1.26953125e-01  3.61328125e-02  2.67578125e-01\n",
            " -1.01074219e-01 -3.02734375e-01 -5.76171875e-02  5.05371094e-02\n",
            "  5.26428223e-04 -2.07031250e-01 -1.38671875e-01 -8.97216797e-03\n",
            " -2.78320312e-02 -1.41601562e-01  2.07031250e-01 -1.58203125e-01\n",
            "  1.27929688e-01  1.49414062e-01 -2.24609375e-02 -8.44726562e-02\n",
            "  1.22558594e-01  2.15820312e-01 -2.13867188e-01 -3.12500000e-01\n",
            " -3.73046875e-01  4.08935547e-03  1.07421875e-01  1.06933594e-01\n",
            "  7.32421875e-02  8.97216797e-03 -3.88183594e-02 -1.29882812e-01\n",
            "  1.49414062e-01 -2.14843750e-01 -1.83868408e-03  9.91210938e-02\n",
            "  1.57226562e-01 -1.14257812e-01 -2.05078125e-01  9.91210938e-02\n",
            "  3.69140625e-01 -1.97265625e-01  3.54003906e-02  1.09375000e-01\n",
            "  1.31835938e-01  1.66992188e-01  2.35351562e-01  1.04980469e-01\n",
            " -4.96093750e-01 -1.64062500e-01 -1.56250000e-01 -5.22460938e-02\n",
            "  1.03027344e-01  2.43164062e-01 -1.88476562e-01  5.07812500e-02\n",
            " -9.37500000e-02 -6.68945312e-02  2.27050781e-02  7.61718750e-02\n",
            "  2.89062500e-01  3.10546875e-01 -5.37109375e-02  2.28515625e-01\n",
            "  2.51464844e-02  6.78710938e-02 -1.21093750e-01 -2.15820312e-01\n",
            " -2.73437500e-01 -3.07617188e-02 -3.37890625e-01  1.53320312e-01\n",
            "  2.33398438e-01 -2.08007812e-01  3.73046875e-01  8.20312500e-02\n",
            "  2.51953125e-01 -7.61718750e-02 -4.66308594e-02 -2.23388672e-02\n",
            "  2.99072266e-02 -5.93261719e-02 -4.66918945e-03 -2.44140625e-01\n",
            " -2.09960938e-01 -2.87109375e-01 -4.54101562e-02 -1.77734375e-01\n",
            " -2.79296875e-01 -8.59375000e-02  9.13085938e-02  2.51953125e-01]\n"
          ]
        }
      ],
      "source": [
        "from gensim.models import KeyedVectors\n",
        "\n",
        "# Path to the downloaded Google News word vectors file\n",
        "google_news_file = \"/content/drive/MyDrive/RNN1/GoogleNews.bin\"\n",
        "\n",
        "try:\n",
        "    # Load Google News word vectors\n",
        "    print(f'Loading Google News word vectors from {google_news_file}...')\n",
        "    embeddings_index = KeyedVectors.load_word2vec_format(google_news_file, binary=True)\n",
        "\n",
        "    # Example usage: Get the word vector for a specific word if it exists in the vocabulary\n",
        "    word = 'king'\n",
        "    if word in embeddings_index:\n",
        "        word_vector = embeddings_index[word]\n",
        "        print(f'Word vector for \"{word}\":\\n{word_vector}')\n",
        "    else:\n",
        "        print(f'Word \"{word}\" not found in the vocabulary.')\n",
        "except ValueError as e:\n",
        "    print(f\"Error: {e}\")\n"
      ]
    },
    {
      "cell_type": "markdown",
      "metadata": {
        "id": "DNa3PQrVdX_u"
      },
      "source": [
        "Preprocessing Text\n",
        "Like most NLP tasks, we begin by leveraging pre-trained word embeddings. These assign numerical values to words, allowing us to feed them into machine learning models. However, mapping words to these embeddings isn't always smooth sailing. The data often requires some cleaning up first."
      ]
    },
    {
      "cell_type": "code",
      "execution_count": null,
      "metadata": {
        "id": "-yfuP6ZjdPLh"
      },
      "outputs": [],
      "source": [
        "def build_vocab(texts):\n",
        "    sentences = texts.apply(lambda x: x.split()).values\n",
        "    vocab = {}\n",
        "    for sentence in sentences:\n",
        "        for word in sentence:\n",
        "            try:\n",
        "                vocab[word] += 1\n",
        "            except KeyError:\n",
        "                vocab[word] = 1\n",
        "    return vocab"
      ]
    },
    {
      "cell_type": "code",
      "execution_count": null,
      "metadata": {
        "id": "P9v_0gikdfyG"
      },
      "outputs": [],
      "source": [
        "def check_coverage(vocab, embeddings_index):\n",
        "    known_words = {}\n",
        "    unknown_words = {}\n",
        "    nb_known_words = 0\n",
        "    nb_unknown_words = 0\n",
        "    for word in vocab.keys():\n",
        "        try:\n",
        "            known_words[word] = embeddings_index[word]\n",
        "            nb_known_words += vocab[word]\n",
        "        except:\n",
        "            unknown_words[word] = vocab[word]\n",
        "            nb_unknown_words += vocab[word]\n",
        "            pass\n",
        "\n",
        "    print('Found embeddings for {:.3%} of vocab'.format(len(known_words) / len(vocab)))\n",
        "    print('Found embeddings for  {:.3%} of all text'.format(nb_known_words / (nb_known_words + nb_unknown_words)))\n",
        "    unknown_words = sorted(unknown_words.items(), key=operator.itemgetter(1))[::-1]\n",
        "\n",
        "    return unknown_words"
      ]
    },
    {
      "cell_type": "markdown",
      "metadata": {
        "id": "hluJny1Ddlly"
      },
      "source": [
        "We will lower() all words."
      ]
    },
    {
      "cell_type": "code",
      "execution_count": null,
      "metadata": {
        "id": "byhzl0Kidr2p"
      },
      "outputs": [],
      "source": [
        "df['comment_text'] = df['comment_text'].apply(lambda x: x.lower())"
      ]
    },
    {
      "cell_type": "code",
      "execution_count": null,
      "metadata": {
        "colab": {
          "base_uri": "https://localhost:8080/"
        },
        "id": "PmYrgMCJdr_Y",
        "outputId": "19c3cdb0-84b5-414b-b207-18102720eda9"
      },
      "outputs": [
        {
          "output_type": "stream",
          "name": "stdout",
          "text": [
            "Found embeddings for 6.006% of vocab\n",
            "Found embeddings for  75.685% of all text\n"
          ]
        },
        {
          "output_type": "execute_result",
          "data": {
            "text/plain": [
              "[('to', 2780660),\n",
              " ('and', 2351962),\n",
              " ('of', 2152705),\n",
              " ('a', 2053557),\n",
              " ('-', 187641),\n",
              " (\"i'm\", 87857),\n",
              " ('.', 75813),\n",
              " ('mr.', 32450),\n",
              " ('it,', 31439),\n",
              " ('trudeau', 29978)]"
            ]
          },
          "metadata": {},
          "execution_count": 11
        }
      ],
      "source": [
        "vocab = build_vocab(df['comment_text'])\n",
        "oov = check_coverage(vocab, embeddings_index)\n",
        "oov[:10]"
      ]
    },
    {
      "cell_type": "code",
      "execution_count": null,
      "metadata": {
        "id": "9rbpJEmR8Ej2"
      },
      "outputs": [],
      "source": [
        "contraction_mapping = {\"ain't\": \"is not\", \"aren't\": \"are not\",\"can't\": \"cannot\", \"'cause\": \"because\", \"could've\": \"could have\", \"couldn't\": \"could not\",\n",
        "                       \"didn't\": \"did not\",  \"doesn't\": \"does not\", \"don't\": \"do not\", \"hadn't\": \"had not\", \"hasn't\": \"has not\", \"haven't\": \"have not\",\n",
        "                       \"he'd\": \"he would\",\"he'll\": \"he will\", \"he's\": \"he is\", \"how'd\": \"how did\", \"how'd'y\": \"how do you\", \"how'll\": \"how will\",\n",
        "                       \"how's\": \"how is\",  \"I'd\": \"I would\", \"I'd've\": \"I would have\", \"I'll\": \"I will\", \"I'll've\": \"I will have\",\"I'm\": \"I am\",\n",
        "                       \"I've\": \"I have\", \"i'd\": \"i would\", \"i'd've\": \"i would have\", \"i'll\": \"i will\",  \"i'll've\": \"i will have\",\"i'm\": \"i am\",\n",
        "                       \"i've\": \"i have\", \"isn't\": \"is not\", \"it'd\": \"it would\", \"it'd've\": \"it would have\", \"it'll\": \"it will\", \"it'll've\": \"it will have\",\n",
        "                       \"it's\": \"it is\", \"let's\": \"let us\", \"ma'am\": \"madam\", \"mayn't\": \"may not\", \"might've\": \"might have\",\"mightn't\": \"might not\",\n",
        "                       \"mightn't've\": \"might not have\", \"must've\": \"must have\", \"mustn't\": \"must not\", \"mustn't've\": \"must not have\", \"needn't\": \"need not\",\n",
        "                       \"needn't've\": \"need not have\",\"o'clock\": \"of the clock\", \"oughtn't\": \"ought not\", \"oughtn't've\": \"ought not have\", \"shan't\": \"shall not\"\n",
        "                       , \"sha'n't\": \"shall not\", \"shan't've\": \"shall not have\", \"she'd\": \"she would\", \"she'd've\": \"she would have\", \"she'll\": \"she will\", \"she'll've\"\n",
        "                       : \"she will have\", \"she's\": \"she is\", \"should've\": \"should have\", \"shouldn't\": \"should not\", \"shouldn't've\": \"should not have\", \"so've\": \"so have\"\n",
        "                       ,\"so's\": \"so as\", \"this's\": \"this is\",\"that'd\": \"that would\", \"that'd've\": \"that would have\", \"that's\": \"that is\", \"there'd\": \"there would\", \"there'd've\": \"there would have\",\n",
        "                       \"there's\": \"there is\", \"here's\": \"here is\",\"they'd\": \"they would\", \"they'd've\": \"they would have\", \"they'll\": \"they will\", \"they'll've\": \"they will have\",\n",
        "                       \"they're\": \"they are\", \"they've\": \"they have\", \"to've\": \"to have\", \"wasn't\": \"was not\", \"we'd\": \"we would\", \"we'd've\": \"we would have\", \"we'll\": \"we will\", \"we'll've\": \"we will have\",\n",
        "                       \"we're\": \"we are\", \"we've\": \"we have\", \"weren't\": \"were not\", \"what'll\": \"what will\", \"what'll've\": \"what will have\", \"what're\": \"what are\",\n",
        "                       \"what's\": \"what is\", \"what've\": \"what have\", \"when's\": \"when is\", \"when've\": \"when have\", \"where'd\": \"where did\", \"where's\": \"where is\", \"where've\": \"where have\",\n",
        "                       \"who'll\": \"who will\", \"who'll've\": \"who will have\", \"who's\": \"who is\", \"who've\": \"who have\", \"why's\": \"why is\", \"why've\": \"why have\", \"will've\": \"will have\",\n",
        "                       \"won't\": \"will not\", \"won't've\": \"will not have\", \"would've\": \"would have\", \"wouldn't\": \"would not\", \"wouldn't've\": \"would not have\", \"y'all\": \"you all\",\n",
        "                       \"y'all'd\": \"you all would\",\"y'all'd've\": \"you all would have\",\"y'all're\": \"you all are\",\"y'all've\": \"you all have\",\"you'd\": \"you would\", \"you'd've\": \"you would have\", \"you'll\": \"you will\", \"you'll've\": \"you will have\", \"you're\": \"you are\", \"you've\": \"you have\" }"
      ]
    },
    {
      "cell_type": "code",
      "execution_count": null,
      "metadata": {
        "id": "V0pOd_b79Z8m"
      },
      "outputs": [],
      "source": [
        "del(vocab,oov)"
      ]
    },
    {
      "cell_type": "code",
      "execution_count": null,
      "metadata": {
        "id": "0TblA7PP9qS2"
      },
      "outputs": [],
      "source": [
        "def known_contractions(embed):\n",
        "    known = []\n",
        "    for contract in contraction_mapping:\n",
        "        if contract in embed:\n",
        "            known.append(contract)\n",
        "    return known"
      ]
    },
    {
      "cell_type": "code",
      "execution_count": null,
      "metadata": {
        "colab": {
          "base_uri": "https://localhost:8080/"
        },
        "id": "sZyQqBET9ymD",
        "outputId": "dd3a0294-4fcb-4726-9bfd-6639ca7b8292"
      },
      "outputs": [
        {
          "output_type": "stream",
          "name": "stdout",
          "text": [
            "[\"ain't\", \"aren't\", \"can't\", \"could've\", \"couldn't\", \"didn't\", \"doesn't\", \"don't\", \"hadn't\", \"hasn't\", \"haven't\", \"he'd\", \"he'll\", \"he's\", \"how'd\", \"how's\", \"I'd\", \"I'd've\", \"I'll\", \"I'm\", \"I've\", \"isn't\", \"it'd\", \"it'll\", \"it's\", \"let's\", \"ma'am\", \"must've\", \"o'clock\", \"oughtn't\", \"she'd\", \"she'll\", \"she's\", \"should've\", \"shouldn't\", \"that's\", \"there's\", \"here's\", \"they'd\", \"they'll\", \"they're\", \"they've\", \"wasn't\", \"we'd\", \"we'll\", \"we're\", \"we've\", \"weren't\", \"what're\", \"what's\", \"what've\", \"where'd\", \"where's\", \"who'll\", \"who's\", \"who've\", \"won't\", \"would've\", \"wouldn't\", \"wouldn't've\", \"y'all\", \"you'd\", \"you'll\", \"you're\", \"you've\"]\n"
          ]
        }
      ],
      "source": [
        "print(known_contractions(embeddings_index))"
      ]
    },
    {
      "cell_type": "code",
      "execution_count": null,
      "metadata": {
        "id": "e9fCTicY95qG"
      },
      "outputs": [],
      "source": [
        "def clean_contractions(text, mapping):\n",
        "    specials = [\"’\", \"‘\", \"´\", \"`\"]\n",
        "    for s in specials:\n",
        "        text = text.replace(s, \"'\")\n",
        "    text = ' '.join([mapping[t] if t in mapping else t for t in text.split(\" \")])\n",
        "    return text"
      ]
    },
    {
      "cell_type": "code",
      "execution_count": null,
      "metadata": {
        "id": "-k0BP_F--Dl-"
      },
      "outputs": [],
      "source": [
        "df['comment_text'] = df['comment_text'].apply(lambda x: clean_contractions(x, contraction_mapping))"
      ]
    },
    {
      "cell_type": "code",
      "execution_count": null,
      "metadata": {
        "colab": {
          "base_uri": "https://localhost:8080/"
        },
        "id": "60mPChxB-Opg",
        "outputId": "d412ee23-beb9-4ed5-fd7d-dff261a06cff"
      },
      "outputs": [
        {
          "output_type": "stream",
          "name": "stdout",
          "text": [
            "Found embeddings for 6.041% of vocab\n",
            "Found embeddings for  76.186% of all text\n"
          ]
        },
        {
          "output_type": "execute_result",
          "data": {
            "text/plain": [
              "[('to', 2780661),\n",
              " ('and', 2351962),\n",
              " ('of', 2152801),\n",
              " ('a', 2053557),\n",
              " ('-', 187641),\n",
              " ('.', 75813),\n",
              " ('mr.', 32450),\n",
              " ('it,', 31439),\n",
              " ('trudeau', 29978),\n",
              " ('that.', 29816)]"
            ]
          },
          "metadata": {},
          "execution_count": 18
        }
      ],
      "source": [
        "vocab = build_vocab(df['comment_text'])\n",
        "oov = check_coverage(vocab, embeddings_index)\n",
        "oov[:10]"
      ]
    },
    {
      "cell_type": "markdown",
      "metadata": {
        "id": "OYlw_8UP-oce"
      },
      "source": [
        "Looks like punctuation is the next issue here, so let's fix it."
      ]
    },
    {
      "cell_type": "code",
      "execution_count": null,
      "metadata": {
        "id": "i0WF9Lb3-gsR"
      },
      "outputs": [],
      "source": [
        "del(vocab,oov)"
      ]
    },
    {
      "cell_type": "code",
      "execution_count": null,
      "metadata": {
        "id": "M0UxdxJS-xOk"
      },
      "outputs": [],
      "source": [
        "punct = \"/-'?!.,#$%\\'()*+-/:;<=>@[\\\\]^_`{|}~\" + '\"\"“”’' + '∞θ÷α•à−β∅³π‘₹´°£€\\×™√²—–&'"
      ]
    },
    {
      "cell_type": "code",
      "execution_count": null,
      "metadata": {
        "id": "BdByT32Y-zA1"
      },
      "outputs": [],
      "source": [
        "def unknown_punct(embed, punct):\n",
        "    unknown = ''\n",
        "    for p in punct:\n",
        "        if p not in embed:\n",
        "            unknown += p\n",
        "            unknown += ' '\n",
        "    return unknown"
      ]
    },
    {
      "cell_type": "code",
      "execution_count": null,
      "metadata": {
        "colab": {
          "base_uri": "https://localhost:8080/"
        },
        "id": "R0YsURh2-4PU",
        "outputId": "8d34e4a5-5a88-4fd7-daff-598c8bc36175"
      },
      "outputs": [
        {
          "output_type": "stream",
          "name": "stdout",
          "text": [
            "/ - ' ? ! . , ' ( ) - / : ; < [ \\ ] { | } \" \" “ ” ’ − ∅ ‘ ₹ ´ \\ — – \n"
          ]
        }
      ],
      "source": [
        "print(unknown_punct(embeddings_index, punct))"
      ]
    },
    {
      "cell_type": "code",
      "execution_count": null,
      "metadata": {
        "id": "8jwTuWkW-9mj"
      },
      "outputs": [],
      "source": [
        "punct_mapping = {\"_\":\" \", \"`\":\" \"}"
      ]
    },
    {
      "cell_type": "code",
      "execution_count": null,
      "metadata": {
        "id": "w8WObSpo_CG0"
      },
      "outputs": [],
      "source": [
        "def clean_special_chars(text, punct, mapping):\n",
        "    for p in mapping:\n",
        "        text = text.replace(p, mapping[p])\n",
        "    for p in punct:\n",
        "        text = text.replace(p, f' {p} ')\n",
        "    return text"
      ]
    },
    {
      "cell_type": "code",
      "execution_count": null,
      "metadata": {
        "id": "lIZ01xuq_H5A"
      },
      "outputs": [],
      "source": [
        "df['comment_text'] = df['comment_text'].apply(lambda x: clean_special_chars(x, punct, punct_mapping))"
      ]
    },
    {
      "cell_type": "code",
      "execution_count": null,
      "metadata": {
        "colab": {
          "base_uri": "https://localhost:8080/"
        },
        "id": "LKaa5SOm_Tt3",
        "outputId": "3565bc32-a4ef-47b9-a03d-52428a9b5de2"
      },
      "outputs": [
        {
          "output_type": "stream",
          "name": "stdout",
          "text": [
            "Found embeddings for 29.970% of vocab\n",
            "Found embeddings for  75.748% of all text\n"
          ]
        }
      ],
      "source": [
        "vocab = build_vocab(df['comment_text'])\n",
        "oov = check_coverage(vocab, embeddings_index)"
      ]
    },
    {
      "cell_type": "code",
      "execution_count": null,
      "metadata": {
        "colab": {
          "base_uri": "https://localhost:8080/"
        },
        "id": "k8cRXStQ_o5B",
        "outputId": "f5b9081c-6cd9-4874-c0a2-c9151703f35d"
      },
      "outputs": [
        {
          "output_type": "execute_result",
          "data": {
            "text/plain": [
              "[('.', 7327088),\n",
              " (',', 3777005),\n",
              " ('to', 2812238),\n",
              " ('and', 2420791),\n",
              " ('of', 2172310),\n",
              " ('a', 2085743),\n",
              " ('\"', 1264743),\n",
              " ('-', 1198866),\n",
              " ('?', 829797),\n",
              " (\"'\", 752615),\n",
              " ('/', 460144),\n",
              " ('!', 428313),\n",
              " (')', 323492),\n",
              " ('(', 297227),\n",
              " (':', 243990),\n",
              " (';', 80666),\n",
              " ('“', 42906),\n",
              " ('”', 42612),\n",
              " ('trudeau', 41289),\n",
              " ('000', 40402),\n",
              " ('10', 35146),\n",
              " ('20', 24388),\n",
              " ('100', 22693),\n",
              " ('50', 20998),\n",
              " ('30', 18938),\n",
              " ('2016', 16396),\n",
              " ('2017', 16354),\n",
              " ('15', 15353),\n",
              " ('alaskans', 13016),\n",
              " ('12', 12981),\n",
              " ('[', 12670),\n",
              " (']', 12610),\n",
              " ('40', 12341),\n",
              " ('25', 11560),\n",
              " ('11', 11451),\n",
              " ('—', 11018),\n",
              " ('60', 9360),\n",
              " ('2015', 9082),\n",
              " ('comey', 8703),\n",
              " ('18', 7699),\n",
              " ('–', 7628),\n",
              " ('500', 7470),\n",
              " ('90', 7450),\n",
              " ('70', 7354),\n",
              " ('80', 7302),\n",
              " ('16', 7299),\n",
              " ('alaskan', 7123),\n",
              " ('24', 6390),\n",
              " ('13', 6283),\n",
              " ('khadr', 6255)]"
            ]
          },
          "metadata": {},
          "execution_count": 27
        }
      ],
      "source": [
        "oov[:50]"
      ]
    },
    {
      "cell_type": "markdown",
      "metadata": {
        "id": "p4DWMscm_1je"
      },
      "source": [
        "Many words lack pre-trained embeddings. While misspelling correction could help, it's a minor improvement we can address later when optimizing the model."
      ]
    },
    {
      "cell_type": "code",
      "execution_count": null,
      "metadata": {
        "id": "beq1an4K_xzi"
      },
      "outputs": [],
      "source": [
        "del(vocab,oov)"
      ]
    },
    {
      "cell_type": "markdown",
      "metadata": {
        "id": "BNrIynWdABgV"
      },
      "source": [
        "Swears\n",
        "Let's replace any swear words we don't have an embedding for with something we do ;)"
      ]
    },
    {
      "cell_type": "code",
      "execution_count": null,
      "metadata": {
        "id": "4zLVIUVn_8F4"
      },
      "outputs": [],
      "source": [
        "swear_words = [\n",
        "    ' 4r5e ',\n",
        "    ' 5h1t ',\n",
        "    ' 5hit ',\n",
        "    ' a55 ',\n",
        "    ' anal ',\n",
        "    ' anus ',\n",
        "    ' ar5e ',\n",
        "    ' arrse ',\n",
        "    ' arse ',\n",
        "    ' ass ',\n",
        "    ' ass-fucker ',\n",
        "    ' asses ',\n",
        "    ' assfucker ',\n",
        "    ' assfukka ',\n",
        "    ' asshole ',\n",
        "    ' assholes ',\n",
        "    ' asswhole ',\n",
        "    ' a_s_s ',\n",
        "    ' b!tch ',\n",
        "    ' b00bs ',\n",
        "    ' b17ch ',\n",
        "    ' b1tch ',\n",
        "    ' ballbag ',\n",
        "    ' balls ',\n",
        "    ' ballsack ',\n",
        "    ' bastard ',\n",
        "    ' beastial ',\n",
        "    ' beastiality ',\n",
        "    ' bellend ',\n",
        "    ' bestial ',\n",
        "    ' bestiality ',\n",
        "    ' biatch ',\n",
        "    ' bitch ',\n",
        "    ' bitcher ',\n",
        "    ' bitchers ',\n",
        "    ' bitches ',\n",
        "    ' bitchin ',\n",
        "    ' bitching ',\n",
        "    ' bloody ',\n",
        "    ' blow job ',\n",
        "    ' blowjob ',\n",
        "    ' blowjobs ',\n",
        "    ' boiolas ',\n",
        "    ' bollock ',\n",
        "    ' bollok ',\n",
        "    ' boner ',\n",
        "    ' boob ',\n",
        "    ' boobs ',\n",
        "    ' booobs ',\n",
        "    ' boooobs ',\n",
        "    ' booooobs ',\n",
        "    ' booooooobs ',\n",
        "    ' breasts ',\n",
        "    ' buceta ',\n",
        "    ' bugger ',\n",
        "    ' bum ',\n",
        "    ' bunny fucker ',\n",
        "    ' butt ',\n",
        "    ' butthole ',\n",
        "    ' buttmuch ',\n",
        "    ' buttplug ',\n",
        "    ' c0ck ',\n",
        "    ' c0cksucker ',\n",
        "    ' carpet muncher ',\n",
        "    ' cawk ',\n",
        "    ' chink ',\n",
        "    ' cipa ',\n",
        "    ' cl1t ',\n",
        "    ' clit ',\n",
        "    ' clitoris ',\n",
        "    ' clits ',\n",
        "    ' cnut ',\n",
        "    ' cock ',\n",
        "    ' cock-sucker ',\n",
        "    ' cockface ',\n",
        "    ' cockhead ',\n",
        "    ' cockmunch ',\n",
        "    ' cockmuncher ',\n",
        "    ' cocks ',\n",
        "    ' cocksuck ',\n",
        "    ' cocksucked ',\n",
        "    ' cocksucker ',\n",
        "    ' cocksucking ',\n",
        "    ' cocksucks ',\n",
        "    ' cocksuka ',\n",
        "    ' cocksukka ',\n",
        "    ' cok ',\n",
        "    ' cokmuncher ',\n",
        "    ' coksucka ',\n",
        "    ' coon ',\n",
        "    ' cox ',\n",
        "    ' crap ',\n",
        "    ' cum ',\n",
        "    ' cummer ',\n",
        "    ' cumming ',\n",
        "    ' cums ',\n",
        "    ' cumshot ',\n",
        "    ' cunilingus ',\n",
        "    ' cunillingus ',\n",
        "    ' cunnilingus ',\n",
        "    ' cunt ',\n",
        "    ' cuntlick ',\n",
        "    ' cuntlicker ',\n",
        "    ' cuntlicking ',\n",
        "    ' cunts ',\n",
        "    ' cyalis ',\n",
        "    ' cyberfuc ',\n",
        "    ' cyberfuck ',\n",
        "    ' cyberfucked ',\n",
        "    ' cyberfucker ',\n",
        "    ' cyberfuckers ',\n",
        "    ' cyberfucking ',\n",
        "    ' d1ck ',\n",
        "    ' damn ',\n",
        "    ' dick ',\n",
        "    ' dickhead ',\n",
        "    ' dildo ',\n",
        "    ' dildos ',\n",
        "    ' dink ',\n",
        "    ' dinks ',\n",
        "    ' dirsa ',\n",
        "    ' dlck ',\n",
        "    ' dog-fucker ',\n",
        "    ' doggin ',\n",
        "    ' dogging ',\n",
        "    ' donkeyribber ',\n",
        "    ' doosh ',\n",
        "    ' duche ',\n",
        "    ' dyke ',\n",
        "    ' ejaculate ',\n",
        "    ' ejaculated ',\n",
        "    ' ejaculates ',\n",
        "    ' ejaculating ',\n",
        "    ' ejaculatings ',\n",
        "    ' ejaculation ',\n",
        "    ' ejakulate ',\n",
        "    ' f u c k ',\n",
        "    ' f u c k e r ',\n",
        "    ' f4nny ',\n",
        "    ' fag ',\n",
        "    ' fagging ',\n",
        "    ' faggitt ',\n",
        "    ' faggot ',\n",
        "    ' faggs ',\n",
        "    ' fagot ',\n",
        "    ' fagots ',\n",
        "    ' fags ',\n",
        "    ' fanny ',\n",
        "    ' fannyflaps ',\n",
        "    ' fannyfucker ',\n",
        "    ' fanyy ',\n",
        "    ' fatass ',\n",
        "    ' fcuk ',\n",
        "    ' fcuker ',\n",
        "    ' fcuking ',\n",
        "    ' feck ',\n",
        "    ' fecker ',\n",
        "    ' felching ',\n",
        "    ' fellate ',\n",
        "    ' fellatio ',\n",
        "    ' fingerfuck ',\n",
        "    ' fingerfucked ',\n",
        "    ' fingerfucker ',\n",
        "    ' fingerfuckers ',\n",
        "    ' fingerfucking ',\n",
        "    ' fingerfucks ',\n",
        "    ' fistfuck ',\n",
        "    ' fistfucked ',\n",
        "    ' fistfucker ',\n",
        "    ' fistfuckers ',\n",
        "    ' fistfucking ',\n",
        "    ' fistfuckings ',\n",
        "    ' fistfucks ',\n",
        "    ' flange ',\n",
        "    ' fook ',\n",
        "    ' fooker ',\n",
        "    ' fuck ',\n",
        "    ' fucka ',\n",
        "    ' fucked ',\n",
        "    ' fucker ',\n",
        "    ' fuckers ',\n",
        "    ' fuckhead ',\n",
        "    ' fuckheads ',\n",
        "    ' fuckin ',\n",
        "    ' fucking ',\n",
        "    ' fuckings ',\n",
        "    ' fuckingshitmotherfucker ',\n",
        "    ' fuckme ',\n",
        "    ' fucks ',\n",
        "    ' fuckwhit ',\n",
        "    ' fuckwit ',\n",
        "    ' fudge packer ',\n",
        "    ' fudgepacker ',\n",
        "    ' fuk ',\n",
        "    ' fuker ',\n",
        "    ' fukker ',\n",
        "    ' fukkin ',\n",
        "    ' fuks ',\n",
        "    ' fukwhit ',\n",
        "    ' fukwit ',\n",
        "    ' fux ',\n",
        "    ' fux0r ',\n",
        "    ' f_u_c_k ',\n",
        "    ' gangbang ',\n",
        "    ' gangbanged ',\n",
        "    ' gangbangs ',\n",
        "    ' gaylord ',\n",
        "    ' gaysex ',\n",
        "    ' goatse ',\n",
        "    ' God ',\n",
        "    ' god-dam ',\n",
        "    ' god-damned ',\n",
        "    ' goddamn ',\n",
        "    ' goddamned ',\n",
        "    ' hardcoresex ',\n",
        "    ' hell ',\n",
        "    ' heshe ',\n",
        "    ' hoar ',\n",
        "    ' hoare ',\n",
        "    ' hoer ',\n",
        "    ' homo ',\n",
        "    ' hore ',\n",
        "    ' horniest ',\n",
        "    ' horny ',\n",
        "    ' hotsex ',\n",
        "    ' jack-off ',\n",
        "    ' jackoff ',\n",
        "    ' jap ',\n",
        "    ' jerk-off ',\n",
        "    ' jism ',\n",
        "    ' jiz ',\n",
        "    ' jizm ',\n",
        "    ' jizz ',\n",
        "    ' kawk ',\n",
        "    ' knob ',\n",
        "    ' knobead ',\n",
        "    ' knobed ',\n",
        "    ' knobend ',\n",
        "    ' knobhead ',\n",
        "    ' knobjocky ',\n",
        "    ' knobjokey ',\n",
        "    ' kock ',\n",
        "    ' kondum ',\n",
        "    ' kondums ',\n",
        "    ' kum ',\n",
        "    ' kummer ',\n",
        "    ' kumming ',\n",
        "    ' kums ',\n",
        "    ' kunilingus ',\n",
        "    ' l3itch ',\n",
        "    ' labia ',\n",
        "    ' lmfao ',\n",
        "    ' lust ',\n",
        "    ' lusting ',\n",
        "    ' m0f0 ',\n",
        "    ' m0fo ',\n",
        "    ' m45terbate ',\n",
        "    ' ma5terb8 ',\n",
        "    ' ma5terbate ',\n",
        "    ' masochist ',\n",
        "    ' master-bate ',\n",
        "    ' masterb8 ',\n",
        "    ' masterbat3 ',\n",
        "    ' masterbate ',\n",
        "    ' masterbation ',\n",
        "    ' masterbations ',\n",
        "    ' masturbate ',\n",
        "    ' mo-fo ',\n",
        "    ' mof0 ',\n",
        "    ' mofo ',\n",
        "    ' mothafuck ',\n",
        "    ' mothafucka ',\n",
        "    ' mothafuckas ',\n",
        "    ' mothafuckaz ',\n",
        "    ' mothafucked ',\n",
        "    ' mothafucker ',\n",
        "    ' mothafuckers ',\n",
        "    ' mothafuckin ',\n",
        "    ' mothafucking ',\n",
        "    ' mothafuckings ',\n",
        "    ' mothafucks ',\n",
        "    ' mother fucker ',\n",
        "    ' motherfuck ',\n",
        "    ' motherfucked ',\n",
        "    ' motherfucker ',\n",
        "    ' motherfuckers ',\n",
        "    ' motherfuckin ',\n",
        "    ' motherfucking ',\n",
        "    ' motherfuckings ',\n",
        "    ' motherfuckka ',\n",
        "    ' motherfucks ',\n",
        "    ' muff ',\n",
        "    ' mutha ',\n",
        "    ' muthafecker ',\n",
        "    ' muthafuckker ',\n",
        "    ' muther ',\n",
        "    ' mutherfucker ',\n",
        "    ' n1gga ',\n",
        "    ' n1gger ',\n",
        "    ' nazi ',\n",
        "    ' nigg3r ',\n",
        "    ' nigg4h ',\n",
        "    ' nigga ',\n",
        "    ' niggah ',\n",
        "    ' niggas ',\n",
        "    ' niggaz ',\n",
        "    ' nigger ',\n",
        "    ' niggers ',\n",
        "    ' nob ',\n",
        "    ' nob jokey ',\n",
        "    ' nobhead ',\n",
        "    ' nobjocky ',\n",
        "    ' nobjokey ',\n",
        "    ' numbnuts ',\n",
        "    ' nutsack ',\n",
        "    ' orgasim ',\n",
        "    ' orgasims ',\n",
        "    ' orgasm ',\n",
        "    ' orgasms ',\n",
        "    ' p0rn ',\n",
        "    ' pawn ',\n",
        "    ' pecker ',\n",
        "    ' penis ',\n",
        "    ' penisfucker ',\n",
        "    ' phonesex ',\n",
        "    ' phuck ',\n",
        "    ' phuk ',\n",
        "    ' phuked ',\n",
        "    ' phuking ',\n",
        "    ' phukked ',\n",
        "    ' phukking ',\n",
        "    ' phuks ',\n",
        "    ' phuq ',\n",
        "    ' pigfucker ',\n",
        "    ' pimpis ',\n",
        "    ' piss ',\n",
        "    ' pissed ',\n",
        "    ' pisser ',\n",
        "    ' pissers ',\n",
        "    ' pisses ',\n",
        "    ' pissflaps ',\n",
        "    ' pissin ',\n",
        "    ' pissing ',\n",
        "    ' pissoff ',\n",
        "    ' poop ',\n",
        "    ' porn ',\n",
        "    ' porno ',\n",
        "    ' pornography ',\n",
        "    ' pornos ',\n",
        "    ' prick ',\n",
        "    ' pricks ',\n",
        "    ' pron ',\n",
        "    ' pube ',\n",
        "    ' pusse ',\n",
        "    ' pussi ',\n",
        "    ' pussies ',\n",
        "    ' pussy ',\n",
        "    ' pussys ',\n",
        "    ' rectum ',\n",
        "    ' retard ',\n",
        "    ' rimjaw ',\n",
        "    ' rimming ',\n",
        "    ' s hit ',\n",
        "    ' s.o.b. ',\n",
        "    ' sadist ',\n",
        "    ' schlong ',\n",
        "    ' screwing ',\n",
        "    ' scroat ',\n",
        "    ' scrote ',\n",
        "    ' scrotum ',\n",
        "    ' semen ',\n",
        "    ' sex ',\n",
        "    ' sh!t ',\n",
        "    ' sh1t ',\n",
        "    ' shag ',\n",
        "    ' shagger ',\n",
        "    ' shaggin ',\n",
        "    ' shagging ',\n",
        "    ' shemale ',\n",
        "    ' shit ',\n",
        "    ' shitdick ',\n",
        "    ' shite ',\n",
        "    ' shited ',\n",
        "    ' shitey ',\n",
        "    ' shitfuck ',\n",
        "    ' shitfull ',\n",
        "    ' shithead ',\n",
        "    ' shiting ',\n",
        "    ' shitings ',\n",
        "    ' shits ',\n",
        "    ' shitted ',\n",
        "    ' shitter ',\n",
        "    ' shitters ',\n",
        "    ' shitting ',\n",
        "    ' shittings ',\n",
        "    ' shitty ',\n",
        "    ' skank ',\n",
        "    ' slut ',\n",
        "    ' sluts ',\n",
        "    ' smegma ',\n",
        "    ' smut ',\n",
        "    ' snatch ',\n",
        "    ' son-of-a-bitch ',\n",
        "    ' spac ',\n",
        "    ' spunk ',\n",
        "    ' s_h_i_t ',\n",
        "    ' t1tt1e5 ',\n",
        "    ' t1tties ',\n",
        "    ' teets ',\n",
        "    ' teez ',\n",
        "    ' testical ',\n",
        "    ' testicle ',\n",
        "    ' tit ',\n",
        "    ' titfuck ',\n",
        "    ' tits ',\n",
        "    ' titt ',\n",
        "    ' tittie5 ',\n",
        "    ' tittiefucker ',\n",
        "    ' titties ',\n",
        "    ' tittyfuck ',\n",
        "    ' tittywank ',\n",
        "    ' titwank ',\n",
        "    ' tosser ',\n",
        "    ' turd ',\n",
        "    ' tw4t ',\n",
        "    ' twat ',\n",
        "    ' twathead ',\n",
        "    ' twatty ',\n",
        "    ' twunt ',\n",
        "    ' twunter ',\n",
        "    ' v14gra ',\n",
        "    ' v1gra ',\n",
        "    ' vagina ',\n",
        "    ' viagra ',\n",
        "    ' vulva ',\n",
        "    ' w00se ',\n",
        "    ' wang ',\n",
        "    ' wank ',\n",
        "    ' wanker ',\n",
        "    ' wanky ',\n",
        "    ' whoar ',\n",
        "    ' whore ',\n",
        "    ' willies ',\n",
        "    ' willy ',\n",
        "    ' xrated ',\n",
        "    ' xxx '\n",
        "]"
      ]
    },
    {
      "cell_type": "code",
      "execution_count": null,
      "metadata": {
        "colab": {
          "base_uri": "https://localhost:8080/",
          "height": 123
        },
        "id": "wYNLmRP5ASgV",
        "outputId": "6578342d-fcab-477c-8bd4-351413302cd0"
      },
      "outputs": [
        {
          "output_type": "execute_result",
          "data": {
            "text/plain": [
              "' 4r5e | 5h1t | 5hit | a55 | ar5e | arrse | arse | ass-fucker | assfucker | assfukka | asswhole | a_s_s | b!tch | b00bs | b17ch | b1tch | ballbag | ballsack | beastial | bellend | bitcher | bitchers | blow job | boiolas | bollok | booobs | boooobs | booooobs | booooooobs | buceta | bunny fucker | buttmuch | buttplug | c0ck | c0cksucker | carpet muncher | cawk | cipa | cl1t | cnut | cock-sucker | cockface | cockhead | cockmunch | cockmuncher | cocksuck | cocksucked | cocksucks | cocksuka | cocksukka | cok | cokmuncher | coksucka | cummer | cunilingus | cunillingus | cuntlick | cuntlicker | cuntlicking | cyberfuc | cyberfuck | cyberfucked | cyberfucker | cyberfuckers | cyberfucking | d1ck | dirsa | dlck | dog-fucker | donkeyribber | doosh | duche | ejaculatings | ejakulate | f u c k | f u c k e r | f4nny | faggitt | faggot | faggs | fannyflaps | fannyfucker | fanyy | fcuker | fecker | felching | fingerfuck | fingerfucked | fingerfucker | fingerfuckers | fingerfucking | fingerfucks | fistfuck | fistfucked | fistfucker | fistfuckers | fistfucking | fistfuckings | fistfucks | fooker | fucka | fuckhead | fuckheads | fuckings | fuckingshitmotherfucker | fuckme | fuckwhit | fudge packer | fudgepacker | fuker | fukker | fukkin | fuks | fukwhit | fukwit | fux | fux0r | f_u_c_k | gangbanged | gangbangs | gaysex | god-dam | god-damned | hardcoresex | heshe | hoare | hoer | hotsex | jack-off | jackoff | jerk-off | jiz | jizm | kawk | knobead | knobed | knobend | knobjocky | knobjokey | kock | kondum | kondums | kummer | kumming | kums | kunilingus | l3itch | m0f0 | m0fo | m45terbate | ma5terb8 | ma5terbate | master-bate | masterb8 | masterbat3 | masterbate | masterbation | masterbations | mo-fo | mof0 | mothafuck | mothafucka | mothafuckas | mothafuckaz | mothafucked | mothafucker | mothafuckers | mothafuckin | mothafucking | mothafuckings | mothafucks | mother fucker | motherfuck | motherfucked | motherfuckings | motherfuckka | motherfucks | muthafecker | muthafuckker | muther | mutherfucker | n1gga | n1gger | nigg3r | nigg4h | niggah | nob jokey | nobhead | nobjocky | nobjokey | orgasim | orgasims | penisfucker | phonesex | phuk | phuked | phuking | phukked | phukking | phuks | phuq | pigfucker | pimpis | pissers | pissflaps | pissoff | pusse | pussi | pussys | rimjaw | s hit | s.o.b. | scroat | scrote | sh!t | shaggin | shitdick | shited | shitey | shitfuck | shitfull | shiting | shitings | shitters | shittings | son-of-a-bitch | spac | s_h_i_t | t1tt1e5 | t1tties | teets | testical | titfuck | titt | tittie5 | tittiefucker | tittyfuck | tittywank | titwank | tw4t | twathead | twatty | twunt | twunter | v14gra | v1gra | w00se | whoar | xrated '"
            ],
            "application/vnd.google.colaboratory.intrinsic+json": {
              "type": "string"
            }
          },
          "metadata": {},
          "execution_count": 30
        }
      ],
      "source": [
        "replace_with_fuck = []\n",
        "\n",
        "for swear in swear_words:\n",
        "    if swear[1:(len(swear)-1)] not in embeddings_index:\n",
        "        replace_with_fuck.append(swear)\n",
        "\n",
        "replace_with_fuck = '|'.join(replace_with_fuck)\n",
        "replace_with_fuck"
      ]
    },
    {
      "cell_type": "code",
      "execution_count": null,
      "metadata": {
        "id": "fXgstdXEAtaI"
      },
      "outputs": [],
      "source": [
        "def handle_swears(text):\n",
        "    text = re.sub(replace_with_fuck, ' fuck ', text)\n",
        "    return text"
      ]
    },
    {
      "cell_type": "code",
      "execution_count": null,
      "metadata": {
        "id": "JjngPgipAybq"
      },
      "outputs": [],
      "source": [
        "df['comment_text'] = df['comment_text'].apply(lambda x: handle_swears(x))"
      ]
    },
    {
      "cell_type": "markdown",
      "metadata": {
        "id": "9giFKO2UBs4c"
      },
      "source": [
        "Let's split the data back into train and test."
      ]
    },
    {
      "cell_type": "code",
      "execution_count": null,
      "metadata": {
        "colab": {
          "base_uri": "https://localhost:8080/",
          "height": 206
        },
        "id": "RRoIMhTyBt6e",
        "outputId": "c0c3d4af-a9e8-4d34-feb3-f762921878c0"
      },
      "outputs": [
        {
          "output_type": "execute_result",
          "data": {
            "text/plain": [
              "      id                                       comment_text\n",
              "0  59848  this is so cool .  it is like ,    '  would yo...\n",
              "1  59849  thank you !  !  this would make my life a lot ...\n",
              "2  59852  this is such an urgent design problem ;  kudos...\n",
              "3  59855  is this something i will be able to install on...\n",
              "4  59856             haha you guys are a bunch of losers . "
            ],
            "text/html": [
              "\n",
              "  <div id=\"df-58e77370-ad68-475a-8c89-76bd4c71ce01\" class=\"colab-df-container\">\n",
              "    <div>\n",
              "<style scoped>\n",
              "    .dataframe tbody tr th:only-of-type {\n",
              "        vertical-align: middle;\n",
              "    }\n",
              "\n",
              "    .dataframe tbody tr th {\n",
              "        vertical-align: top;\n",
              "    }\n",
              "\n",
              "    .dataframe thead th {\n",
              "        text-align: right;\n",
              "    }\n",
              "</style>\n",
              "<table border=\"1\" class=\"dataframe\">\n",
              "  <thead>\n",
              "    <tr style=\"text-align: right;\">\n",
              "      <th></th>\n",
              "      <th>id</th>\n",
              "      <th>comment_text</th>\n",
              "    </tr>\n",
              "  </thead>\n",
              "  <tbody>\n",
              "    <tr>\n",
              "      <th>0</th>\n",
              "      <td>59848</td>\n",
              "      <td>this is so cool .  it is like ,    '  would yo...</td>\n",
              "    </tr>\n",
              "    <tr>\n",
              "      <th>1</th>\n",
              "      <td>59849</td>\n",
              "      <td>thank you !  !  this would make my life a lot ...</td>\n",
              "    </tr>\n",
              "    <tr>\n",
              "      <th>2</th>\n",
              "      <td>59852</td>\n",
              "      <td>this is such an urgent design problem ;  kudos...</td>\n",
              "    </tr>\n",
              "    <tr>\n",
              "      <th>3</th>\n",
              "      <td>59855</td>\n",
              "      <td>is this something i will be able to install on...</td>\n",
              "    </tr>\n",
              "    <tr>\n",
              "      <th>4</th>\n",
              "      <td>59856</td>\n",
              "      <td>haha you guys are a bunch of losers .</td>\n",
              "    </tr>\n",
              "  </tbody>\n",
              "</table>\n",
              "</div>\n",
              "    <div class=\"colab-df-buttons\">\n",
              "\n",
              "  <div class=\"colab-df-container\">\n",
              "    <button class=\"colab-df-convert\" onclick=\"convertToInteractive('df-58e77370-ad68-475a-8c89-76bd4c71ce01')\"\n",
              "            title=\"Convert this dataframe to an interactive table.\"\n",
              "            style=\"display:none;\">\n",
              "\n",
              "  <svg xmlns=\"http://www.w3.org/2000/svg\" height=\"24px\" viewBox=\"0 -960 960 960\">\n",
              "    <path d=\"M120-120v-720h720v720H120Zm60-500h600v-160H180v160Zm220 220h160v-160H400v160Zm0 220h160v-160H400v160ZM180-400h160v-160H180v160Zm440 0h160v-160H620v160ZM180-180h160v-160H180v160Zm440 0h160v-160H620v160Z\"/>\n",
              "  </svg>\n",
              "    </button>\n",
              "\n",
              "  <style>\n",
              "    .colab-df-container {\n",
              "      display:flex;\n",
              "      gap: 12px;\n",
              "    }\n",
              "\n",
              "    .colab-df-convert {\n",
              "      background-color: #E8F0FE;\n",
              "      border: none;\n",
              "      border-radius: 50%;\n",
              "      cursor: pointer;\n",
              "      display: none;\n",
              "      fill: #1967D2;\n",
              "      height: 32px;\n",
              "      padding: 0 0 0 0;\n",
              "      width: 32px;\n",
              "    }\n",
              "\n",
              "    .colab-df-convert:hover {\n",
              "      background-color: #E2EBFA;\n",
              "      box-shadow: 0px 1px 2px rgba(60, 64, 67, 0.3), 0px 1px 3px 1px rgba(60, 64, 67, 0.15);\n",
              "      fill: #174EA6;\n",
              "    }\n",
              "\n",
              "    .colab-df-buttons div {\n",
              "      margin-bottom: 4px;\n",
              "    }\n",
              "\n",
              "    [theme=dark] .colab-df-convert {\n",
              "      background-color: #3B4455;\n",
              "      fill: #D2E3FC;\n",
              "    }\n",
              "\n",
              "    [theme=dark] .colab-df-convert:hover {\n",
              "      background-color: #434B5C;\n",
              "      box-shadow: 0px 1px 3px 1px rgba(0, 0, 0, 0.15);\n",
              "      filter: drop-shadow(0px 1px 2px rgba(0, 0, 0, 0.3));\n",
              "      fill: #FFFFFF;\n",
              "    }\n",
              "  </style>\n",
              "\n",
              "    <script>\n",
              "      const buttonEl =\n",
              "        document.querySelector('#df-58e77370-ad68-475a-8c89-76bd4c71ce01 button.colab-df-convert');\n",
              "      buttonEl.style.display =\n",
              "        google.colab.kernel.accessAllowed ? 'block' : 'none';\n",
              "\n",
              "      async function convertToInteractive(key) {\n",
              "        const element = document.querySelector('#df-58e77370-ad68-475a-8c89-76bd4c71ce01');\n",
              "        const dataTable =\n",
              "          await google.colab.kernel.invokeFunction('convertToInteractive',\n",
              "                                                    [key], {});\n",
              "        if (!dataTable) return;\n",
              "\n",
              "        const docLinkHtml = 'Like what you see? Visit the ' +\n",
              "          '<a target=\"_blank\" href=https://colab.research.google.com/notebooks/data_table.ipynb>data table notebook</a>'\n",
              "          + ' to learn more about interactive tables.';\n",
              "        element.innerHTML = '';\n",
              "        dataTable['output_type'] = 'display_data';\n",
              "        await google.colab.output.renderOutput(dataTable, element);\n",
              "        const docLink = document.createElement('div');\n",
              "        docLink.innerHTML = docLinkHtml;\n",
              "        element.appendChild(docLink);\n",
              "      }\n",
              "    </script>\n",
              "  </div>\n",
              "\n",
              "\n",
              "<div id=\"df-0efc9632-57f6-45ba-9442-9a32ed53bf4a\">\n",
              "  <button class=\"colab-df-quickchart\" onclick=\"quickchart('df-0efc9632-57f6-45ba-9442-9a32ed53bf4a')\"\n",
              "            title=\"Suggest charts\"\n",
              "            style=\"display:none;\">\n",
              "\n",
              "<svg xmlns=\"http://www.w3.org/2000/svg\" height=\"24px\"viewBox=\"0 0 24 24\"\n",
              "     width=\"24px\">\n",
              "    <g>\n",
              "        <path d=\"M19 3H5c-1.1 0-2 .9-2 2v14c0 1.1.9 2 2 2h14c1.1 0 2-.9 2-2V5c0-1.1-.9-2-2-2zM9 17H7v-7h2v7zm4 0h-2V7h2v10zm4 0h-2v-4h2v4z\"/>\n",
              "    </g>\n",
              "</svg>\n",
              "  </button>\n",
              "\n",
              "<style>\n",
              "  .colab-df-quickchart {\n",
              "      --bg-color: #E8F0FE;\n",
              "      --fill-color: #1967D2;\n",
              "      --hover-bg-color: #E2EBFA;\n",
              "      --hover-fill-color: #174EA6;\n",
              "      --disabled-fill-color: #AAA;\n",
              "      --disabled-bg-color: #DDD;\n",
              "  }\n",
              "\n",
              "  [theme=dark] .colab-df-quickchart {\n",
              "      --bg-color: #3B4455;\n",
              "      --fill-color: #D2E3FC;\n",
              "      --hover-bg-color: #434B5C;\n",
              "      --hover-fill-color: #FFFFFF;\n",
              "      --disabled-bg-color: #3B4455;\n",
              "      --disabled-fill-color: #666;\n",
              "  }\n",
              "\n",
              "  .colab-df-quickchart {\n",
              "    background-color: var(--bg-color);\n",
              "    border: none;\n",
              "    border-radius: 50%;\n",
              "    cursor: pointer;\n",
              "    display: none;\n",
              "    fill: var(--fill-color);\n",
              "    height: 32px;\n",
              "    padding: 0;\n",
              "    width: 32px;\n",
              "  }\n",
              "\n",
              "  .colab-df-quickchart:hover {\n",
              "    background-color: var(--hover-bg-color);\n",
              "    box-shadow: 0 1px 2px rgba(60, 64, 67, 0.3), 0 1px 3px 1px rgba(60, 64, 67, 0.15);\n",
              "    fill: var(--button-hover-fill-color);\n",
              "  }\n",
              "\n",
              "  .colab-df-quickchart-complete:disabled,\n",
              "  .colab-df-quickchart-complete:disabled:hover {\n",
              "    background-color: var(--disabled-bg-color);\n",
              "    fill: var(--disabled-fill-color);\n",
              "    box-shadow: none;\n",
              "  }\n",
              "\n",
              "  .colab-df-spinner {\n",
              "    border: 2px solid var(--fill-color);\n",
              "    border-color: transparent;\n",
              "    border-bottom-color: var(--fill-color);\n",
              "    animation:\n",
              "      spin 1s steps(1) infinite;\n",
              "  }\n",
              "\n",
              "  @keyframes spin {\n",
              "    0% {\n",
              "      border-color: transparent;\n",
              "      border-bottom-color: var(--fill-color);\n",
              "      border-left-color: var(--fill-color);\n",
              "    }\n",
              "    20% {\n",
              "      border-color: transparent;\n",
              "      border-left-color: var(--fill-color);\n",
              "      border-top-color: var(--fill-color);\n",
              "    }\n",
              "    30% {\n",
              "      border-color: transparent;\n",
              "      border-left-color: var(--fill-color);\n",
              "      border-top-color: var(--fill-color);\n",
              "      border-right-color: var(--fill-color);\n",
              "    }\n",
              "    40% {\n",
              "      border-color: transparent;\n",
              "      border-right-color: var(--fill-color);\n",
              "      border-top-color: var(--fill-color);\n",
              "    }\n",
              "    60% {\n",
              "      border-color: transparent;\n",
              "      border-right-color: var(--fill-color);\n",
              "    }\n",
              "    80% {\n",
              "      border-color: transparent;\n",
              "      border-right-color: var(--fill-color);\n",
              "      border-bottom-color: var(--fill-color);\n",
              "    }\n",
              "    90% {\n",
              "      border-color: transparent;\n",
              "      border-bottom-color: var(--fill-color);\n",
              "    }\n",
              "  }\n",
              "</style>\n",
              "\n",
              "  <script>\n",
              "    async function quickchart(key) {\n",
              "      const quickchartButtonEl =\n",
              "        document.querySelector('#' + key + ' button');\n",
              "      quickchartButtonEl.disabled = true;  // To prevent multiple clicks.\n",
              "      quickchartButtonEl.classList.add('colab-df-spinner');\n",
              "      try {\n",
              "        const charts = await google.colab.kernel.invokeFunction(\n",
              "            'suggestCharts', [key], {});\n",
              "      } catch (error) {\n",
              "        console.error('Error during call to suggestCharts:', error);\n",
              "      }\n",
              "      quickchartButtonEl.classList.remove('colab-df-spinner');\n",
              "      quickchartButtonEl.classList.add('colab-df-quickchart-complete');\n",
              "    }\n",
              "    (() => {\n",
              "      let quickchartButtonEl =\n",
              "        document.querySelector('#df-0efc9632-57f6-45ba-9442-9a32ed53bf4a button');\n",
              "      quickchartButtonEl.style.display =\n",
              "        google.colab.kernel.accessAllowed ? 'block' : 'none';\n",
              "    })();\n",
              "  </script>\n",
              "</div>\n",
              "\n",
              "    </div>\n",
              "  </div>\n"
            ],
            "application/vnd.google.colaboratory.intrinsic+json": {
              "type": "dataframe",
              "variable_name": "train"
            }
          },
          "metadata": {},
          "execution_count": 33
        }
      ],
      "source": [
        "train = df.iloc[:1804874,:]\n",
        "test = df.iloc[1804874:,:]\n",
        "\n",
        "train.head()"
      ]
    },
    {
      "cell_type": "markdown",
      "metadata": {
        "id": "rc5vfyyLCEhd"
      },
      "source": [
        "Further Preparation"
      ]
    },
    {
      "cell_type": "code",
      "execution_count": null,
      "metadata": {
        "id": "ilMWJVOhB2VS"
      },
      "outputs": [],
      "source": [
        "del(df)"
      ]
    },
    {
      "cell_type": "code",
      "execution_count": null,
      "metadata": {
        "colab": {
          "base_uri": "https://localhost:8080/",
          "height": 516
        },
        "id": "FlZria3ZB9uk",
        "outputId": "9857cc89-b46b-421b-9894-69a3fe9eb6cb"
      },
      "outputs": [
        {
          "output_type": "execute_result",
          "data": {
            "text/plain": [
              "      id    target                                       comment_text  \\\n",
              "0  59848  0.000000  This is so cool. It's like, 'would you want yo...   \n",
              "1  59849  0.000000  Thank you!! This would make my life a lot less...   \n",
              "2  59852  0.000000  This is such an urgent design problem; kudos t...   \n",
              "3  59855  0.000000  Is this something I'll be able to install on m...   \n",
              "4  59856  0.893617               haha you guys are a bunch of losers.   \n",
              "\n",
              "   severe_toxicity  obscene  identity_attack   insult  threat  asian  atheist  \\\n",
              "0         0.000000      0.0         0.000000  0.00000     0.0    NaN      NaN   \n",
              "1         0.000000      0.0         0.000000  0.00000     0.0    NaN      NaN   \n",
              "2         0.000000      0.0         0.000000  0.00000     0.0    NaN      NaN   \n",
              "3         0.000000      0.0         0.000000  0.00000     0.0    NaN      NaN   \n",
              "4         0.021277      0.0         0.021277  0.87234     0.0    0.0      0.0   \n",
              "\n",
              "   ...  article_id    rating  funny  wow  sad  likes  disagree  \\\n",
              "0  ...        2006  rejected      0    0    0      0         0   \n",
              "1  ...        2006  rejected      0    0    0      0         0   \n",
              "2  ...        2006  rejected      0    0    0      0         0   \n",
              "3  ...        2006  rejected      0    0    0      0         0   \n",
              "4  ...        2006  rejected      0    0    0      1         0   \n",
              "\n",
              "   sexual_explicit  identity_annotator_count  toxicity_annotator_count  \n",
              "0              0.0                         0                         4  \n",
              "1              0.0                         0                         4  \n",
              "2              0.0                         0                         4  \n",
              "3              0.0                         0                         4  \n",
              "4              0.0                         4                        47  \n",
              "\n",
              "[5 rows x 45 columns]"
            ],
            "text/html": [
              "\n",
              "  <div id=\"df-f1e0f6cc-c51c-4277-adea-38902294ea31\" class=\"colab-df-container\">\n",
              "    <div>\n",
              "<style scoped>\n",
              "    .dataframe tbody tr th:only-of-type {\n",
              "        vertical-align: middle;\n",
              "    }\n",
              "\n",
              "    .dataframe tbody tr th {\n",
              "        vertical-align: top;\n",
              "    }\n",
              "\n",
              "    .dataframe thead th {\n",
              "        text-align: right;\n",
              "    }\n",
              "</style>\n",
              "<table border=\"1\" class=\"dataframe\">\n",
              "  <thead>\n",
              "    <tr style=\"text-align: right;\">\n",
              "      <th></th>\n",
              "      <th>id</th>\n",
              "      <th>target</th>\n",
              "      <th>comment_text</th>\n",
              "      <th>severe_toxicity</th>\n",
              "      <th>obscene</th>\n",
              "      <th>identity_attack</th>\n",
              "      <th>insult</th>\n",
              "      <th>threat</th>\n",
              "      <th>asian</th>\n",
              "      <th>atheist</th>\n",
              "      <th>...</th>\n",
              "      <th>article_id</th>\n",
              "      <th>rating</th>\n",
              "      <th>funny</th>\n",
              "      <th>wow</th>\n",
              "      <th>sad</th>\n",
              "      <th>likes</th>\n",
              "      <th>disagree</th>\n",
              "      <th>sexual_explicit</th>\n",
              "      <th>identity_annotator_count</th>\n",
              "      <th>toxicity_annotator_count</th>\n",
              "    </tr>\n",
              "  </thead>\n",
              "  <tbody>\n",
              "    <tr>\n",
              "      <th>0</th>\n",
              "      <td>59848</td>\n",
              "      <td>0.000000</td>\n",
              "      <td>This is so cool. It's like, 'would you want yo...</td>\n",
              "      <td>0.000000</td>\n",
              "      <td>0.0</td>\n",
              "      <td>0.000000</td>\n",
              "      <td>0.00000</td>\n",
              "      <td>0.0</td>\n",
              "      <td>NaN</td>\n",
              "      <td>NaN</td>\n",
              "      <td>...</td>\n",
              "      <td>2006</td>\n",
              "      <td>rejected</td>\n",
              "      <td>0</td>\n",
              "      <td>0</td>\n",
              "      <td>0</td>\n",
              "      <td>0</td>\n",
              "      <td>0</td>\n",
              "      <td>0.0</td>\n",
              "      <td>0</td>\n",
              "      <td>4</td>\n",
              "    </tr>\n",
              "    <tr>\n",
              "      <th>1</th>\n",
              "      <td>59849</td>\n",
              "      <td>0.000000</td>\n",
              "      <td>Thank you!! This would make my life a lot less...</td>\n",
              "      <td>0.000000</td>\n",
              "      <td>0.0</td>\n",
              "      <td>0.000000</td>\n",
              "      <td>0.00000</td>\n",
              "      <td>0.0</td>\n",
              "      <td>NaN</td>\n",
              "      <td>NaN</td>\n",
              "      <td>...</td>\n",
              "      <td>2006</td>\n",
              "      <td>rejected</td>\n",
              "      <td>0</td>\n",
              "      <td>0</td>\n",
              "      <td>0</td>\n",
              "      <td>0</td>\n",
              "      <td>0</td>\n",
              "      <td>0.0</td>\n",
              "      <td>0</td>\n",
              "      <td>4</td>\n",
              "    </tr>\n",
              "    <tr>\n",
              "      <th>2</th>\n",
              "      <td>59852</td>\n",
              "      <td>0.000000</td>\n",
              "      <td>This is such an urgent design problem; kudos t...</td>\n",
              "      <td>0.000000</td>\n",
              "      <td>0.0</td>\n",
              "      <td>0.000000</td>\n",
              "      <td>0.00000</td>\n",
              "      <td>0.0</td>\n",
              "      <td>NaN</td>\n",
              "      <td>NaN</td>\n",
              "      <td>...</td>\n",
              "      <td>2006</td>\n",
              "      <td>rejected</td>\n",
              "      <td>0</td>\n",
              "      <td>0</td>\n",
              "      <td>0</td>\n",
              "      <td>0</td>\n",
              "      <td>0</td>\n",
              "      <td>0.0</td>\n",
              "      <td>0</td>\n",
              "      <td>4</td>\n",
              "    </tr>\n",
              "    <tr>\n",
              "      <th>3</th>\n",
              "      <td>59855</td>\n",
              "      <td>0.000000</td>\n",
              "      <td>Is this something I'll be able to install on m...</td>\n",
              "      <td>0.000000</td>\n",
              "      <td>0.0</td>\n",
              "      <td>0.000000</td>\n",
              "      <td>0.00000</td>\n",
              "      <td>0.0</td>\n",
              "      <td>NaN</td>\n",
              "      <td>NaN</td>\n",
              "      <td>...</td>\n",
              "      <td>2006</td>\n",
              "      <td>rejected</td>\n",
              "      <td>0</td>\n",
              "      <td>0</td>\n",
              "      <td>0</td>\n",
              "      <td>0</td>\n",
              "      <td>0</td>\n",
              "      <td>0.0</td>\n",
              "      <td>0</td>\n",
              "      <td>4</td>\n",
              "    </tr>\n",
              "    <tr>\n",
              "      <th>4</th>\n",
              "      <td>59856</td>\n",
              "      <td>0.893617</td>\n",
              "      <td>haha you guys are a bunch of losers.</td>\n",
              "      <td>0.021277</td>\n",
              "      <td>0.0</td>\n",
              "      <td>0.021277</td>\n",
              "      <td>0.87234</td>\n",
              "      <td>0.0</td>\n",
              "      <td>0.0</td>\n",
              "      <td>0.0</td>\n",
              "      <td>...</td>\n",
              "      <td>2006</td>\n",
              "      <td>rejected</td>\n",
              "      <td>0</td>\n",
              "      <td>0</td>\n",
              "      <td>0</td>\n",
              "      <td>1</td>\n",
              "      <td>0</td>\n",
              "      <td>0.0</td>\n",
              "      <td>4</td>\n",
              "      <td>47</td>\n",
              "    </tr>\n",
              "  </tbody>\n",
              "</table>\n",
              "<p>5 rows × 45 columns</p>\n",
              "</div>\n",
              "    <div class=\"colab-df-buttons\">\n",
              "\n",
              "  <div class=\"colab-df-container\">\n",
              "    <button class=\"colab-df-convert\" onclick=\"convertToInteractive('df-f1e0f6cc-c51c-4277-adea-38902294ea31')\"\n",
              "            title=\"Convert this dataframe to an interactive table.\"\n",
              "            style=\"display:none;\">\n",
              "\n",
              "  <svg xmlns=\"http://www.w3.org/2000/svg\" height=\"24px\" viewBox=\"0 -960 960 960\">\n",
              "    <path d=\"M120-120v-720h720v720H120Zm60-500h600v-160H180v160Zm220 220h160v-160H400v160Zm0 220h160v-160H400v160ZM180-400h160v-160H180v160Zm440 0h160v-160H620v160ZM180-180h160v-160H180v160Zm440 0h160v-160H620v160Z\"/>\n",
              "  </svg>\n",
              "    </button>\n",
              "\n",
              "  <style>\n",
              "    .colab-df-container {\n",
              "      display:flex;\n",
              "      gap: 12px;\n",
              "    }\n",
              "\n",
              "    .colab-df-convert {\n",
              "      background-color: #E8F0FE;\n",
              "      border: none;\n",
              "      border-radius: 50%;\n",
              "      cursor: pointer;\n",
              "      display: none;\n",
              "      fill: #1967D2;\n",
              "      height: 32px;\n",
              "      padding: 0 0 0 0;\n",
              "      width: 32px;\n",
              "    }\n",
              "\n",
              "    .colab-df-convert:hover {\n",
              "      background-color: #E2EBFA;\n",
              "      box-shadow: 0px 1px 2px rgba(60, 64, 67, 0.3), 0px 1px 3px 1px rgba(60, 64, 67, 0.15);\n",
              "      fill: #174EA6;\n",
              "    }\n",
              "\n",
              "    .colab-df-buttons div {\n",
              "      margin-bottom: 4px;\n",
              "    }\n",
              "\n",
              "    [theme=dark] .colab-df-convert {\n",
              "      background-color: #3B4455;\n",
              "      fill: #D2E3FC;\n",
              "    }\n",
              "\n",
              "    [theme=dark] .colab-df-convert:hover {\n",
              "      background-color: #434B5C;\n",
              "      box-shadow: 0px 1px 3px 1px rgba(0, 0, 0, 0.15);\n",
              "      filter: drop-shadow(0px 1px 2px rgba(0, 0, 0, 0.3));\n",
              "      fill: #FFFFFF;\n",
              "    }\n",
              "  </style>\n",
              "\n",
              "    <script>\n",
              "      const buttonEl =\n",
              "        document.querySelector('#df-f1e0f6cc-c51c-4277-adea-38902294ea31 button.colab-df-convert');\n",
              "      buttonEl.style.display =\n",
              "        google.colab.kernel.accessAllowed ? 'block' : 'none';\n",
              "\n",
              "      async function convertToInteractive(key) {\n",
              "        const element = document.querySelector('#df-f1e0f6cc-c51c-4277-adea-38902294ea31');\n",
              "        const dataTable =\n",
              "          await google.colab.kernel.invokeFunction('convertToInteractive',\n",
              "                                                    [key], {});\n",
              "        if (!dataTable) return;\n",
              "\n",
              "        const docLinkHtml = 'Like what you see? Visit the ' +\n",
              "          '<a target=\"_blank\" href=https://colab.research.google.com/notebooks/data_table.ipynb>data table notebook</a>'\n",
              "          + ' to learn more about interactive tables.';\n",
              "        element.innerHTML = '';\n",
              "        dataTable['output_type'] = 'display_data';\n",
              "        await google.colab.output.renderOutput(dataTable, element);\n",
              "        const docLink = document.createElement('div');\n",
              "        docLink.innerHTML = docLinkHtml;\n",
              "        element.appendChild(docLink);\n",
              "      }\n",
              "    </script>\n",
              "  </div>\n",
              "\n",
              "\n",
              "<div id=\"df-d9bd357e-fbd0-4079-8a4d-6827ee442f61\">\n",
              "  <button class=\"colab-df-quickchart\" onclick=\"quickchart('df-d9bd357e-fbd0-4079-8a4d-6827ee442f61')\"\n",
              "            title=\"Suggest charts\"\n",
              "            style=\"display:none;\">\n",
              "\n",
              "<svg xmlns=\"http://www.w3.org/2000/svg\" height=\"24px\"viewBox=\"0 0 24 24\"\n",
              "     width=\"24px\">\n",
              "    <g>\n",
              "        <path d=\"M19 3H5c-1.1 0-2 .9-2 2v14c0 1.1.9 2 2 2h14c1.1 0 2-.9 2-2V5c0-1.1-.9-2-2-2zM9 17H7v-7h2v7zm4 0h-2V7h2v10zm4 0h-2v-4h2v4z\"/>\n",
              "    </g>\n",
              "</svg>\n",
              "  </button>\n",
              "\n",
              "<style>\n",
              "  .colab-df-quickchart {\n",
              "      --bg-color: #E8F0FE;\n",
              "      --fill-color: #1967D2;\n",
              "      --hover-bg-color: #E2EBFA;\n",
              "      --hover-fill-color: #174EA6;\n",
              "      --disabled-fill-color: #AAA;\n",
              "      --disabled-bg-color: #DDD;\n",
              "  }\n",
              "\n",
              "  [theme=dark] .colab-df-quickchart {\n",
              "      --bg-color: #3B4455;\n",
              "      --fill-color: #D2E3FC;\n",
              "      --hover-bg-color: #434B5C;\n",
              "      --hover-fill-color: #FFFFFF;\n",
              "      --disabled-bg-color: #3B4455;\n",
              "      --disabled-fill-color: #666;\n",
              "  }\n",
              "\n",
              "  .colab-df-quickchart {\n",
              "    background-color: var(--bg-color);\n",
              "    border: none;\n",
              "    border-radius: 50%;\n",
              "    cursor: pointer;\n",
              "    display: none;\n",
              "    fill: var(--fill-color);\n",
              "    height: 32px;\n",
              "    padding: 0;\n",
              "    width: 32px;\n",
              "  }\n",
              "\n",
              "  .colab-df-quickchart:hover {\n",
              "    background-color: var(--hover-bg-color);\n",
              "    box-shadow: 0 1px 2px rgba(60, 64, 67, 0.3), 0 1px 3px 1px rgba(60, 64, 67, 0.15);\n",
              "    fill: var(--button-hover-fill-color);\n",
              "  }\n",
              "\n",
              "  .colab-df-quickchart-complete:disabled,\n",
              "  .colab-df-quickchart-complete:disabled:hover {\n",
              "    background-color: var(--disabled-bg-color);\n",
              "    fill: var(--disabled-fill-color);\n",
              "    box-shadow: none;\n",
              "  }\n",
              "\n",
              "  .colab-df-spinner {\n",
              "    border: 2px solid var(--fill-color);\n",
              "    border-color: transparent;\n",
              "    border-bottom-color: var(--fill-color);\n",
              "    animation:\n",
              "      spin 1s steps(1) infinite;\n",
              "  }\n",
              "\n",
              "  @keyframes spin {\n",
              "    0% {\n",
              "      border-color: transparent;\n",
              "      border-bottom-color: var(--fill-color);\n",
              "      border-left-color: var(--fill-color);\n",
              "    }\n",
              "    20% {\n",
              "      border-color: transparent;\n",
              "      border-left-color: var(--fill-color);\n",
              "      border-top-color: var(--fill-color);\n",
              "    }\n",
              "    30% {\n",
              "      border-color: transparent;\n",
              "      border-left-color: var(--fill-color);\n",
              "      border-top-color: var(--fill-color);\n",
              "      border-right-color: var(--fill-color);\n",
              "    }\n",
              "    40% {\n",
              "      border-color: transparent;\n",
              "      border-right-color: var(--fill-color);\n",
              "      border-top-color: var(--fill-color);\n",
              "    }\n",
              "    60% {\n",
              "      border-color: transparent;\n",
              "      border-right-color: var(--fill-color);\n",
              "    }\n",
              "    80% {\n",
              "      border-color: transparent;\n",
              "      border-right-color: var(--fill-color);\n",
              "      border-bottom-color: var(--fill-color);\n",
              "    }\n",
              "    90% {\n",
              "      border-color: transparent;\n",
              "      border-bottom-color: var(--fill-color);\n",
              "    }\n",
              "  }\n",
              "</style>\n",
              "\n",
              "  <script>\n",
              "    async function quickchart(key) {\n",
              "      const quickchartButtonEl =\n",
              "        document.querySelector('#' + key + ' button');\n",
              "      quickchartButtonEl.disabled = true;  // To prevent multiple clicks.\n",
              "      quickchartButtonEl.classList.add('colab-df-spinner');\n",
              "      try {\n",
              "        const charts = await google.colab.kernel.invokeFunction(\n",
              "            'suggestCharts', [key], {});\n",
              "      } catch (error) {\n",
              "        console.error('Error during call to suggestCharts:', error);\n",
              "      }\n",
              "      quickchartButtonEl.classList.remove('colab-df-spinner');\n",
              "      quickchartButtonEl.classList.add('colab-df-quickchart-complete');\n",
              "    }\n",
              "    (() => {\n",
              "      let quickchartButtonEl =\n",
              "        document.querySelector('#df-d9bd357e-fbd0-4079-8a4d-6827ee442f61 button');\n",
              "      quickchartButtonEl.style.display =\n",
              "        google.colab.kernel.accessAllowed ? 'block' : 'none';\n",
              "    })();\n",
              "  </script>\n",
              "</div>\n",
              "\n",
              "    </div>\n",
              "  </div>\n"
            ],
            "application/vnd.google.colaboratory.intrinsic+json": {
              "type": "dataframe",
              "variable_name": "train_orig"
            }
          },
          "metadata": {},
          "execution_count": 35
        }
      ],
      "source": [
        "train_orig = pd.read_csv(\"/content/drive/MyDrive/RNN1/train.csv\")\n",
        "train_orig.head()"
      ]
    },
    {
      "cell_type": "code",
      "execution_count": null,
      "metadata": {
        "colab": {
          "base_uri": "https://localhost:8080/",
          "height": 206
        },
        "id": "WXQilqjODCDP",
        "outputId": "dd9327e9-0e60-4ad0-d3b4-d895c4b283ce"
      },
      "outputs": [
        {
          "output_type": "execute_result",
          "data": {
            "text/plain": [
              "      id                                       comment_text    target\n",
              "0  59848  this is so cool .  it is like ,    '  would yo...  0.000000\n",
              "1  59849  thank you !  !  this would make my life a lot ...  0.000000\n",
              "2  59852  this is such an urgent design problem ;  kudos...  0.000000\n",
              "3  59855  is this something i will be able to install on...  0.000000\n",
              "4  59856             haha you guys are a bunch of losers .   0.893617"
            ],
            "text/html": [
              "\n",
              "  <div id=\"df-eeb98849-ed35-4e99-9ab2-9916ba2610a0\" class=\"colab-df-container\">\n",
              "    <div>\n",
              "<style scoped>\n",
              "    .dataframe tbody tr th:only-of-type {\n",
              "        vertical-align: middle;\n",
              "    }\n",
              "\n",
              "    .dataframe tbody tr th {\n",
              "        vertical-align: top;\n",
              "    }\n",
              "\n",
              "    .dataframe thead th {\n",
              "        text-align: right;\n",
              "    }\n",
              "</style>\n",
              "<table border=\"1\" class=\"dataframe\">\n",
              "  <thead>\n",
              "    <tr style=\"text-align: right;\">\n",
              "      <th></th>\n",
              "      <th>id</th>\n",
              "      <th>comment_text</th>\n",
              "      <th>target</th>\n",
              "    </tr>\n",
              "  </thead>\n",
              "  <tbody>\n",
              "    <tr>\n",
              "      <th>0</th>\n",
              "      <td>59848</td>\n",
              "      <td>this is so cool .  it is like ,    '  would yo...</td>\n",
              "      <td>0.000000</td>\n",
              "    </tr>\n",
              "    <tr>\n",
              "      <th>1</th>\n",
              "      <td>59849</td>\n",
              "      <td>thank you !  !  this would make my life a lot ...</td>\n",
              "      <td>0.000000</td>\n",
              "    </tr>\n",
              "    <tr>\n",
              "      <th>2</th>\n",
              "      <td>59852</td>\n",
              "      <td>this is such an urgent design problem ;  kudos...</td>\n",
              "      <td>0.000000</td>\n",
              "    </tr>\n",
              "    <tr>\n",
              "      <th>3</th>\n",
              "      <td>59855</td>\n",
              "      <td>is this something i will be able to install on...</td>\n",
              "      <td>0.000000</td>\n",
              "    </tr>\n",
              "    <tr>\n",
              "      <th>4</th>\n",
              "      <td>59856</td>\n",
              "      <td>haha you guys are a bunch of losers .</td>\n",
              "      <td>0.893617</td>\n",
              "    </tr>\n",
              "  </tbody>\n",
              "</table>\n",
              "</div>\n",
              "    <div class=\"colab-df-buttons\">\n",
              "\n",
              "  <div class=\"colab-df-container\">\n",
              "    <button class=\"colab-df-convert\" onclick=\"convertToInteractive('df-eeb98849-ed35-4e99-9ab2-9916ba2610a0')\"\n",
              "            title=\"Convert this dataframe to an interactive table.\"\n",
              "            style=\"display:none;\">\n",
              "\n",
              "  <svg xmlns=\"http://www.w3.org/2000/svg\" height=\"24px\" viewBox=\"0 -960 960 960\">\n",
              "    <path d=\"M120-120v-720h720v720H120Zm60-500h600v-160H180v160Zm220 220h160v-160H400v160Zm0 220h160v-160H400v160ZM180-400h160v-160H180v160Zm440 0h160v-160H620v160ZM180-180h160v-160H180v160Zm440 0h160v-160H620v160Z\"/>\n",
              "  </svg>\n",
              "    </button>\n",
              "\n",
              "  <style>\n",
              "    .colab-df-container {\n",
              "      display:flex;\n",
              "      gap: 12px;\n",
              "    }\n",
              "\n",
              "    .colab-df-convert {\n",
              "      background-color: #E8F0FE;\n",
              "      border: none;\n",
              "      border-radius: 50%;\n",
              "      cursor: pointer;\n",
              "      display: none;\n",
              "      fill: #1967D2;\n",
              "      height: 32px;\n",
              "      padding: 0 0 0 0;\n",
              "      width: 32px;\n",
              "    }\n",
              "\n",
              "    .colab-df-convert:hover {\n",
              "      background-color: #E2EBFA;\n",
              "      box-shadow: 0px 1px 2px rgba(60, 64, 67, 0.3), 0px 1px 3px 1px rgba(60, 64, 67, 0.15);\n",
              "      fill: #174EA6;\n",
              "    }\n",
              "\n",
              "    .colab-df-buttons div {\n",
              "      margin-bottom: 4px;\n",
              "    }\n",
              "\n",
              "    [theme=dark] .colab-df-convert {\n",
              "      background-color: #3B4455;\n",
              "      fill: #D2E3FC;\n",
              "    }\n",
              "\n",
              "    [theme=dark] .colab-df-convert:hover {\n",
              "      background-color: #434B5C;\n",
              "      box-shadow: 0px 1px 3px 1px rgba(0, 0, 0, 0.15);\n",
              "      filter: drop-shadow(0px 1px 2px rgba(0, 0, 0, 0.3));\n",
              "      fill: #FFFFFF;\n",
              "    }\n",
              "  </style>\n",
              "\n",
              "    <script>\n",
              "      const buttonEl =\n",
              "        document.querySelector('#df-eeb98849-ed35-4e99-9ab2-9916ba2610a0 button.colab-df-convert');\n",
              "      buttonEl.style.display =\n",
              "        google.colab.kernel.accessAllowed ? 'block' : 'none';\n",
              "\n",
              "      async function convertToInteractive(key) {\n",
              "        const element = document.querySelector('#df-eeb98849-ed35-4e99-9ab2-9916ba2610a0');\n",
              "        const dataTable =\n",
              "          await google.colab.kernel.invokeFunction('convertToInteractive',\n",
              "                                                    [key], {});\n",
              "        if (!dataTable) return;\n",
              "\n",
              "        const docLinkHtml = 'Like what you see? Visit the ' +\n",
              "          '<a target=\"_blank\" href=https://colab.research.google.com/notebooks/data_table.ipynb>data table notebook</a>'\n",
              "          + ' to learn more about interactive tables.';\n",
              "        element.innerHTML = '';\n",
              "        dataTable['output_type'] = 'display_data';\n",
              "        await google.colab.output.renderOutput(dataTable, element);\n",
              "        const docLink = document.createElement('div');\n",
              "        docLink.innerHTML = docLinkHtml;\n",
              "        element.appendChild(docLink);\n",
              "      }\n",
              "    </script>\n",
              "  </div>\n",
              "\n",
              "\n",
              "<div id=\"df-b703e7c0-5150-410b-9eb7-e9457ab14688\">\n",
              "  <button class=\"colab-df-quickchart\" onclick=\"quickchart('df-b703e7c0-5150-410b-9eb7-e9457ab14688')\"\n",
              "            title=\"Suggest charts\"\n",
              "            style=\"display:none;\">\n",
              "\n",
              "<svg xmlns=\"http://www.w3.org/2000/svg\" height=\"24px\"viewBox=\"0 0 24 24\"\n",
              "     width=\"24px\">\n",
              "    <g>\n",
              "        <path d=\"M19 3H5c-1.1 0-2 .9-2 2v14c0 1.1.9 2 2 2h14c1.1 0 2-.9 2-2V5c0-1.1-.9-2-2-2zM9 17H7v-7h2v7zm4 0h-2V7h2v10zm4 0h-2v-4h2v4z\"/>\n",
              "    </g>\n",
              "</svg>\n",
              "  </button>\n",
              "\n",
              "<style>\n",
              "  .colab-df-quickchart {\n",
              "      --bg-color: #E8F0FE;\n",
              "      --fill-color: #1967D2;\n",
              "      --hover-bg-color: #E2EBFA;\n",
              "      --hover-fill-color: #174EA6;\n",
              "      --disabled-fill-color: #AAA;\n",
              "      --disabled-bg-color: #DDD;\n",
              "  }\n",
              "\n",
              "  [theme=dark] .colab-df-quickchart {\n",
              "      --bg-color: #3B4455;\n",
              "      --fill-color: #D2E3FC;\n",
              "      --hover-bg-color: #434B5C;\n",
              "      --hover-fill-color: #FFFFFF;\n",
              "      --disabled-bg-color: #3B4455;\n",
              "      --disabled-fill-color: #666;\n",
              "  }\n",
              "\n",
              "  .colab-df-quickchart {\n",
              "    background-color: var(--bg-color);\n",
              "    border: none;\n",
              "    border-radius: 50%;\n",
              "    cursor: pointer;\n",
              "    display: none;\n",
              "    fill: var(--fill-color);\n",
              "    height: 32px;\n",
              "    padding: 0;\n",
              "    width: 32px;\n",
              "  }\n",
              "\n",
              "  .colab-df-quickchart:hover {\n",
              "    background-color: var(--hover-bg-color);\n",
              "    box-shadow: 0 1px 2px rgba(60, 64, 67, 0.3), 0 1px 3px 1px rgba(60, 64, 67, 0.15);\n",
              "    fill: var(--button-hover-fill-color);\n",
              "  }\n",
              "\n",
              "  .colab-df-quickchart-complete:disabled,\n",
              "  .colab-df-quickchart-complete:disabled:hover {\n",
              "    background-color: var(--disabled-bg-color);\n",
              "    fill: var(--disabled-fill-color);\n",
              "    box-shadow: none;\n",
              "  }\n",
              "\n",
              "  .colab-df-spinner {\n",
              "    border: 2px solid var(--fill-color);\n",
              "    border-color: transparent;\n",
              "    border-bottom-color: var(--fill-color);\n",
              "    animation:\n",
              "      spin 1s steps(1) infinite;\n",
              "  }\n",
              "\n",
              "  @keyframes spin {\n",
              "    0% {\n",
              "      border-color: transparent;\n",
              "      border-bottom-color: var(--fill-color);\n",
              "      border-left-color: var(--fill-color);\n",
              "    }\n",
              "    20% {\n",
              "      border-color: transparent;\n",
              "      border-left-color: var(--fill-color);\n",
              "      border-top-color: var(--fill-color);\n",
              "    }\n",
              "    30% {\n",
              "      border-color: transparent;\n",
              "      border-left-color: var(--fill-color);\n",
              "      border-top-color: var(--fill-color);\n",
              "      border-right-color: var(--fill-color);\n",
              "    }\n",
              "    40% {\n",
              "      border-color: transparent;\n",
              "      border-right-color: var(--fill-color);\n",
              "      border-top-color: var(--fill-color);\n",
              "    }\n",
              "    60% {\n",
              "      border-color: transparent;\n",
              "      border-right-color: var(--fill-color);\n",
              "    }\n",
              "    80% {\n",
              "      border-color: transparent;\n",
              "      border-right-color: var(--fill-color);\n",
              "      border-bottom-color: var(--fill-color);\n",
              "    }\n",
              "    90% {\n",
              "      border-color: transparent;\n",
              "      border-bottom-color: var(--fill-color);\n",
              "    }\n",
              "  }\n",
              "</style>\n",
              "\n",
              "  <script>\n",
              "    async function quickchart(key) {\n",
              "      const quickchartButtonEl =\n",
              "        document.querySelector('#' + key + ' button');\n",
              "      quickchartButtonEl.disabled = true;  // To prevent multiple clicks.\n",
              "      quickchartButtonEl.classList.add('colab-df-spinner');\n",
              "      try {\n",
              "        const charts = await google.colab.kernel.invokeFunction(\n",
              "            'suggestCharts', [key], {});\n",
              "      } catch (error) {\n",
              "        console.error('Error during call to suggestCharts:', error);\n",
              "      }\n",
              "      quickchartButtonEl.classList.remove('colab-df-spinner');\n",
              "      quickchartButtonEl.classList.add('colab-df-quickchart-complete');\n",
              "    }\n",
              "    (() => {\n",
              "      let quickchartButtonEl =\n",
              "        document.querySelector('#df-b703e7c0-5150-410b-9eb7-e9457ab14688 button');\n",
              "      quickchartButtonEl.style.display =\n",
              "        google.colab.kernel.accessAllowed ? 'block' : 'none';\n",
              "    })();\n",
              "  </script>\n",
              "</div>\n",
              "\n",
              "    </div>\n",
              "  </div>\n"
            ],
            "application/vnd.google.colaboratory.intrinsic+json": {
              "type": "dataframe",
              "variable_name": "train"
            }
          },
          "metadata": {},
          "execution_count": 36
        }
      ],
      "source": [
        "train = pd.concat([train,train_orig[['target']]],axis=1)\n",
        "train.head()"
      ]
    },
    {
      "cell_type": "code",
      "execution_count": null,
      "metadata": {
        "id": "RxLhK2GkDMk4"
      },
      "outputs": [],
      "source": [
        "del(train_orig)"
      ]
    },
    {
      "cell_type": "markdown",
      "metadata": {
        "id": "AVqcTzKrDWbn"
      },
      "source": [
        "Convert the target to binary flag."
      ]
    },
    {
      "cell_type": "code",
      "execution_count": null,
      "metadata": {
        "id": "TqCHc3gvDOQ9"
      },
      "outputs": [],
      "source": [
        "train['target'] = np.where(train['target'] >= 0.5, True, False)\n"
      ]
    },
    {
      "cell_type": "markdown",
      "metadata": {
        "id": "wnQJTy4QDc1N"
      },
      "source": [
        "Split into train/validation sets."
      ]
    },
    {
      "cell_type": "code",
      "execution_count": null,
      "metadata": {
        "colab": {
          "base_uri": "https://localhost:8080/"
        },
        "id": "yMHIRooXDb_x",
        "outputId": "fa517415-f4d7-495b-f9e1-0f9e4cabc406"
      },
      "outputs": [
        {
          "output_type": "stream",
          "name": "stdout",
          "text": [
            "1624386 train comments, 180488 validate comments\n"
          ]
        }
      ],
      "source": [
        "train_df, validate_df = model_selection.train_test_split(train, test_size=0.1)\n",
        "print('%d train comments, %d validate comments' % (len(train_df), len(validate_df)))"
      ]
    },
    {
      "cell_type": "markdown",
      "metadata": {
        "id": "ylOKdyQ-Dm-K"
      },
      "source": [
        "Tokenize the text."
      ]
    },
    {
      "cell_type": "code",
      "execution_count": null,
      "metadata": {
        "id": "05SkhzD2DqO6"
      },
      "outputs": [],
      "source": [
        "MAX_NUM_WORDS = 100000\n",
        "TOXICITY_COLUMN = 'target'\n",
        "TEXT_COLUMN = 'comment_text'\n",
        "\n",
        "# Create a text tokenizer.\n",
        "tokenizer = Tokenizer(num_words=MAX_NUM_WORDS)\n",
        "tokenizer.fit_on_texts(train_df[TEXT_COLUMN])\n",
        "\n",
        "# All comments must be truncated or padded to be the same length.\n",
        "MAX_SEQUENCE_LENGTH = 256\n",
        "def pad_text(texts, tokenizer):\n",
        "    return pad_sequences(tokenizer.texts_to_sequences(texts), maxlen=MAX_SEQUENCE_LENGTH)"
      ]
    },
    {
      "cell_type": "markdown",
      "metadata": {
        "id": "xhKtiOtHELtn"
      },
      "source": [
        "Create our embedding matrix."
      ]
    },
    {
      "cell_type": "code",
      "execution_count": null,
      "metadata": {
        "id": "dUGPjnzFEMmA"
      },
      "outputs": [],
      "source": [
        "EMBEDDINGS_DIMENSION = 300\n",
        "embedding_matrix = np.zeros((len(tokenizer.word_index) + 1,EMBEDDINGS_DIMENSION))"
      ]
    },
    {
      "cell_type": "code",
      "execution_count": null,
      "metadata": {
        "id": "D3uz9wl5EWFt"
      },
      "outputs": [],
      "source": [
        "num_words_in_embedding = 0\n",
        "\n",
        "# Iterate over the word index\n",
        "for word, i in tokenizer.word_index.items():\n",
        "    # Check if the word is in the embeddings index\n",
        "    if word in embeddings_index.key_to_index:\n",
        "        # Get the embedding vector\n",
        "        embedding_vector = embeddings_index.get_vector(word)\n",
        "        # Assign the embedding vector to the corresponding index in the embedding matrix\n",
        "        embedding_matrix[i] = embedding_vector\n",
        "        # Increment the count of words found in the embeddings index\n",
        "        num_words_in_embedding += 1"
      ]
    },
    {
      "cell_type": "code",
      "execution_count": null,
      "metadata": {
        "id": "WFjl_IuBFVST"
      },
      "outputs": [],
      "source": [
        "train_text = pad_text(train_df[TEXT_COLUMN], tokenizer)\n",
        "train_labels = train_df[TOXICITY_COLUMN]\n",
        "validate_text = pad_text(validate_df[TEXT_COLUMN], tokenizer)\n",
        "validate_labels = validate_df[TOXICITY_COLUMN]"
      ]
    },
    {
      "cell_type": "code",
      "execution_count": null,
      "metadata": {
        "colab": {
          "base_uri": "https://localhost:8080/"
        },
        "id": "Bu26YieTF72M",
        "outputId": "e2a1d212-27a6-4c24-88d6-1af91f642409"
      },
      "outputs": [
        {
          "output_type": "stream",
          "name": "stdout",
          "text": [
            "Model: \"model\"\n",
            "__________________________________________________________________________________________________\n",
            " Layer (type)                Output Shape                 Param #   Connected to                  \n",
            "==================================================================================================\n",
            " input_1 (InputLayer)        [(None, 256)]                0         []                            \n",
            "                                                                                                  \n",
            " embedding (Embedding)       (None, 256, 300)             9031890   ['input_1[0][0]']             \n",
            "                                                          0                                       \n",
            "                                                                                                  \n",
            " spatial_dropout1d (Spatial  (None, 256, 300)             0         ['embedding[0][0]']           \n",
            " Dropout1D)                                                                                       \n",
            "                                                                                                  \n",
            " bidirectional (Bidirection  (None, 256, 128)             186880    ['spatial_dropout1d[0][0]']   \n",
            " al)                                                                                              \n",
            "                                                                                                  \n",
            " conv1d (Conv1D)             (None, 255, 64)              16448     ['bidirectional[0][0]']       \n",
            "                                                                                                  \n",
            " global_average_pooling1d (  (None, 64)                   0         ['conv1d[0][0]']              \n",
            " GlobalAveragePooling1D)                                                                          \n",
            "                                                                                                  \n",
            " global_max_pooling1d (Glob  (None, 64)                   0         ['conv1d[0][0]']              \n",
            " alMaxPooling1D)                                                                                  \n",
            "                                                                                                  \n",
            " concatenate (Concatenate)   (None, 128)                  0         ['global_average_pooling1d[0][\n",
            "                                                                    0]',                          \n",
            "                                                                     'global_max_pooling1d[0][0]']\n",
            "                                                                                                  \n",
            " dense (Dense)               (None, 1)                    129       ['concatenate[0][0]']         \n",
            "                                                                                                  \n",
            "==================================================================================================\n",
            "Total params: 90522357 (345.32 MB)\n",
            "Trainable params: 203457 (794.75 KB)\n",
            "Non-trainable params: 90318900 (344.54 MB)\n",
            "__________________________________________________________________________________________________\n"
          ]
        }
      ],
      "source": [
        "from keras.layers import Input, Embedding, SpatialDropout1D, Bidirectional, Conv1D, GlobalAveragePooling1D, GlobalMaxPooling1D, concatenate, Dense\n",
        "from keras.models import Model\n",
        "from keras.layers import LSTM  # Add this import\n",
        "\n",
        "sequence_input = Input(shape=(MAX_SEQUENCE_LENGTH,), dtype='int32')\n",
        "embedding_layer = Embedding(len(tokenizer.word_index) + 1,\n",
        "                            EMBEDDINGS_DIMENSION,\n",
        "                            weights=[embedding_matrix],\n",
        "                            input_length=MAX_SEQUENCE_LENGTH,\n",
        "                            trainable=False)\n",
        "x = embedding_layer(sequence_input)\n",
        "x = SpatialDropout1D(0.2)(x)\n",
        "x = Bidirectional(LSTM(64, return_sequences=True))(x)  # Add LSTM layer as the inner layer for Bidirectional\n",
        "x = Conv1D(64, kernel_size=2, padding=\"valid\", kernel_initializer=\"he_uniform\")(x)\n",
        "\n",
        "avg_pool1 = GlobalAveragePooling1D()(x)\n",
        "max_pool1 = GlobalMaxPooling1D()(x)\n",
        "\n",
        "x = concatenate([avg_pool1, max_pool1])\n",
        "\n",
        "preds = Dense(1, activation='sigmoid')(x)\n",
        "\n",
        "model = Model(sequence_input, preds)\n",
        "model.summary()\n"
      ]
    },
    {
      "cell_type": "code",
      "execution_count": null,
      "metadata": {
        "id": "GrAIZOwDJCNv"
      },
      "outputs": [],
      "source": [
        "model.compile(loss='binary_crossentropy',\n",
        "              optimizer=Adam(),\n",
        "              metrics=['acc'])"
      ]
    },
    {
      "cell_type": "markdown",
      "metadata": {
        "id": "WuYlPi7-JH0w"
      },
      "source": [
        "Model Training\n"
      ]
    },
    {
      "cell_type": "code",
      "execution_count": null,
      "metadata": {
        "id": "dfUFv4clJJKy"
      },
      "outputs": [],
      "source": [
        "BATCH_SIZE = 1024\n",
        "NUM_EPOCHS = 50"
      ]
    },
    {
      "cell_type": "code",
      "execution_count": null,
      "metadata": {
        "colab": {
          "base_uri": "https://localhost:8080/"
        },
        "id": "tbF7mKZOJPvx",
        "outputId": "db007a58-7eb1-452d-87aa-2e03a6d1645f"
      },
      "outputs": [
        {
          "output_type": "stream",
          "name": "stdout",
          "text": [
            "Epoch 1/50\n",
            "1587/1587 [==============================] - 79s 45ms/step - loss: 0.1555 - acc: 0.9420 - val_loss: 0.1287 - val_acc: 0.9497\n",
            "Epoch 2/50\n",
            "1587/1587 [==============================] - 70s 44ms/step - loss: 0.1300 - acc: 0.9491 - val_loss: 0.1228 - val_acc: 0.9517\n",
            "Epoch 3/50\n",
            "1587/1587 [==============================] - 70s 44ms/step - loss: 0.1250 - acc: 0.9506 - val_loss: 0.1192 - val_acc: 0.9530\n",
            "Epoch 4/50\n",
            "1587/1587 [==============================] - 70s 44ms/step - loss: 0.1215 - acc: 0.9519 - val_loss: 0.1192 - val_acc: 0.9527\n",
            "Epoch 5/50\n",
            "1587/1587 [==============================] - 70s 44ms/step - loss: 0.1192 - acc: 0.9527 - val_loss: 0.1171 - val_acc: 0.9535\n",
            "Epoch 6/50\n",
            "1587/1587 [==============================] - 70s 44ms/step - loss: 0.1171 - acc: 0.9534 - val_loss: 0.1166 - val_acc: 0.9534\n",
            "Epoch 7/50\n",
            "1587/1587 [==============================] - 69s 44ms/step - loss: 0.1154 - acc: 0.9540 - val_loss: 0.1176 - val_acc: 0.9536\n",
            "Epoch 8/50\n",
            "1587/1587 [==============================] - 69s 43ms/step - loss: 0.1137 - acc: 0.9547 - val_loss: 0.1172 - val_acc: 0.9530\n",
            "Epoch 9/50\n",
            "1587/1587 [==============================] - 69s 43ms/step - loss: 0.1122 - acc: 0.9553 - val_loss: 0.1172 - val_acc: 0.9528\n",
            "Epoch 9: early stopping\n"
          ]
        },
        {
          "output_type": "execute_result",
          "data": {
            "text/plain": [
              "<keras.src.callbacks.History at 0x7e8b05f7b670>"
            ]
          },
          "metadata": {},
          "execution_count": 47
        }
      ],
      "source": [
        "model.fit(\n",
        "    train_text,\n",
        "    train_labels,\n",
        "    batch_size=BATCH_SIZE,\n",
        "    epochs=NUM_EPOCHS,\n",
        "    validation_data=(validate_text, validate_labels),\n",
        "    callbacks = [EarlyStopping(monitor='val_loss', mode='min', verbose=1, patience=3)])"
      ]
    },
    {
      "cell_type": "code",
      "execution_count": null,
      "metadata": {
        "id": "wN4E_aK73NRK"
      },
      "outputs": [],
      "source": [
        "#test_text = pad_text(test_df[TEXT_COLUMN], tokenizer)\n",
        "#test_labels = test_df[TOXICITY_COLUMN]\n",
        "validate_text = pad_text(validate_df[TEXT_COLUMN], tokenizer)\n",
        "validate_labels = validate_df[TOXICITY_COLUMN]"
      ]
    },
    {
      "cell_type": "code",
      "source": [
        "from sklearn.metrics import classification_report, confusion_matrix, accuracy_score\n",
        "test_pred = model.predict(validate_text)\n"
      ],
      "metadata": {
        "colab": {
          "base_uri": "https://localhost:8080/"
        },
        "id": "X-ZAfzc3uzjJ",
        "outputId": "1191d748-5c06-4950-ebd4-6d82e32290bc"
      },
      "execution_count": null,
      "outputs": [
        {
          "output_type": "stream",
          "name": "stdout",
          "text": [
            "5641/5641 [==============================] - 41s 7ms/step\n"
          ]
        }
      ]
    },
    {
      "cell_type": "code",
      "source": [
        "test_pred > 0.5"
      ],
      "metadata": {
        "colab": {
          "base_uri": "https://localhost:8080/"
        },
        "id": "wAo6dusM0Puq",
        "outputId": "4ce58d78-359e-4794-d15e-40b85288fd3d"
      },
      "execution_count": null,
      "outputs": [
        {
          "output_type": "execute_result",
          "data": {
            "text/plain": [
              "array([[False],\n",
              "       [False],\n",
              "       [False],\n",
              "       ...,\n",
              "       [False],\n",
              "       [False],\n",
              "       [False]])"
            ]
          },
          "metadata": {},
          "execution_count": 52
        }
      ]
    },
    {
      "cell_type": "code",
      "source": [
        "print(classification_report(validate_labels, test_pred > .5))"
      ],
      "metadata": {
        "colab": {
          "base_uri": "https://localhost:8080/"
        },
        "id": "EgY52g_00Myq",
        "outputId": "682e4c34-a3a7-4877-e970-51e04126897d"
      },
      "execution_count": null,
      "outputs": [
        {
          "output_type": "stream",
          "name": "stdout",
          "text": [
            "              precision    recall  f1-score   support\n",
            "\n",
            "       False       0.97      0.98      0.97    166048\n",
            "        True       0.73      0.65      0.69     14440\n",
            "\n",
            "    accuracy                           0.95    180488\n",
            "   macro avg       0.85      0.81      0.83    180488\n",
            "weighted avg       0.95      0.95      0.95    180488\n",
            "\n"
          ]
        }
      ]
    },
    {
      "cell_type": "code",
      "source": [
        "confusion_matrix(validate_labels, test_pred > .5)"
      ],
      "metadata": {
        "colab": {
          "base_uri": "https://localhost:8080/"
        },
        "id": "gDQMMzPFviTd",
        "outputId": "0478e9c8-7664-408d-c102-de753ff3ad61"
      },
      "execution_count": null,
      "outputs": [
        {
          "output_type": "execute_result",
          "data": {
            "text/plain": [
              "array([[162643,   3405],\n",
              "       [  5106,   9334]])"
            ]
          },
          "metadata": {},
          "execution_count": 54
        }
      ]
    },
    {
      "cell_type": "code",
      "source": [
        "from sklearn.metrics import roc_auc_score, roc_curve\n",
        "roc_auc_score(validate_labels, test_pred)"
      ],
      "metadata": {
        "colab": {
          "base_uri": "https://localhost:8080/"
        },
        "id": "_ceanOVHx0iu",
        "outputId": "61244628-d969-4acb-c38e-b676326c0f1c"
      },
      "execution_count": null,
      "outputs": [
        {
          "output_type": "execute_result",
          "data": {
            "text/plain": [
              "0.9647070738214601"
            ]
          },
          "metadata": {},
          "execution_count": 55
        }
      ]
    },
    {
      "cell_type": "code",
      "source": [
        "import matplotlib.pyplot as plt\n",
        "FPR, TPR, _= roc_curve(validate_labels, test_pred)\n",
        "plt.plot(FPR, TPR)\n",
        "plt.xlabel('False Positive Rate')\n",
        "plt.ylabel('True Positive Rate')\n",
        "plt.title('ROC Curve')"
      ],
      "metadata": {
        "colab": {
          "base_uri": "https://localhost:8080/",
          "height": 489
        },
        "id": "ClkyYmjeyb5R",
        "outputId": "06991f6c-e1ac-4b7e-9500-b57f5a08f931"
      },
      "execution_count": null,
      "outputs": [
        {
          "output_type": "execute_result",
          "data": {
            "text/plain": [
              "Text(0.5, 1.0, 'ROC Curve')"
            ]
          },
          "metadata": {},
          "execution_count": 58
        },
        {
          "output_type": "display_data",
          "data": {
            "text/plain": [
              "<Figure size 640x480 with 1 Axes>"
            ],
            "image/png": "[encoded data removed]"
          },
          "metadata": {}
        }
      ]
    },
    {
      "cell_type": "markdown",
      "metadata": {
        "id": "4b2OK6_2O9ub"
      },
      "source": [
        "## Conclusion:\n",
        "\n",
        "### We achieved an accuracy of 95% on this model. This is very good even though the dataset is imbalanced. The 95% accuracy shows that we have built an effective classifier on a large dataset with an impressive ROC curve. In order to improve this model, we would need to improve the recall on the \"True\" class. We could do this by implementing a technique similar to SMOTE or ADASYN to upsample the minority class, which would likely be more effective than down sampling. We will look to improve this model in the future, for now I wanted to complete this type of project.\n",
        "\n"
      ]
    }
  ],
  "metadata": {
    "accelerator": "GPU",
    "colab": {
      "gpuType": "A100",
      "machine_shape": "hm",
      "provenance": []
    },
    "kernelspec": {
      "display_name": "Python 3",
      "name": "python3"
    },
    "language_info": {
      "name": "python"
    }
  },
  "nbformat": 4,
  "nbformat_minor": 0
}